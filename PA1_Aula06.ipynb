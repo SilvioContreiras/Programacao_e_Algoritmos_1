{
  "nbformat": 4,
  "nbformat_minor": 0,
  "metadata": {
    "colab": {
      "provenance": [],
      "collapsed_sections": []
    },
    "kernelspec": {
      "name": "python3",
      "display_name": "Python 3"
    },
    "language_info": {
      "name": "python"
    }
  },
  "cells": [
    {
      "cell_type": "markdown",
      "source": [
        "##**Programação e Algoritmos I**\n",
        "\n",
        "Prof Alexandre Levada\n",
        "\n",
        "###**Variáveis compostas unidimensionais: listas, strings e vetores**\n",
        "\n",
        "Variáveis simples nos permitem armazenar apenas uma informação atômica. Por atômica, queremos dizer: um simples número ou um caracter. Porém, em diversos problemas deseja-se armazenar um conjunto de informações, como por exemplo, um vetor de números reais ou uma cadeia de caracteres (string). Para isso, existem as variáveis compostas. Iniciaremos o nosso estudo pelas variáveis compostas unidimensionais, que são aquelas em que basta apenas um índice para localizar cada elemento do conjunto.\n",
        "\n",
        "Em Python, a principal variável composta unidomensional é a Lista. Uma Lista em Python é uma coleção de objetos, que podem ou não ser do mesmo tipo. Por essa razão, dizemos que listas em Python são variáveis compostas heterogêneas. Dizemos que uma lista é uma estrutura de dados estruturas de dados em Python para armazenar uma coletânea de objetos de forma indexada, ou seja, em cada posição da lista temos uma variável. A figura a seguir ilustra essa ideia como um trem de dados.\n",
        "\n",
        "![python-list.png](data:image/png;base64,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)"
      ],
      "metadata": {
        "id": "wpavlbbUeyhz"
      }
    },
    {
      "cell_type": "markdown",
      "source": [
        "Em Python, existem listas e tuplas, que são estruturas muito similares. A única diferença entre uma tupla e uma lista, é que tuplas são objetos imutáveis, ou seja, uma vez criados não podem ser modificados. Em outras palavras, é impossível usar o operador de atribuição com uma tupla. As listas por outro lado podem ser modificadas sempre que necessário e portanto são muito mais utilizadas na prática do que as tuplas.  "
      ],
      "metadata": {
        "id": "R66HfduI8NTy"
      }
    },
    {
      "cell_type": "code",
      "execution_count": null,
      "metadata": {
        "id": "xlcbMSZ8ext6",
        "colab": {
          "base_uri": "https://localhost:8080/"
        },
        "outputId": "73154ddc-98a1-42e9-8fb7-beaff4397adb"
      },
      "outputs": [
        {
          "output_type": "stream",
          "name": "stdout",
          "text": [
            "7.5\n"
          ]
        }
      ],
      "source": [
        "# cria uma lista vazia\n",
        "lista = []\n",
        "# cria uma lista com 3 notas\n",
        "notas = [7.5, 9, 8.3]\n",
        "# imprime a primeira nota\n",
        "print(notas[0])\n",
        "# mudando a primeira nota\n",
        "notas[0] = 8.7"
      ]
    },
    {
      "cell_type": "markdown",
      "source": [
        "Veremos a seguir uma série de comandos da linguagem Python para minipulação de listas."
      ],
      "metadata": {
        "id": "A9cLQfR58nXO"
      }
    },
    {
      "cell_type": "code",
      "source": [
        "import random\n",
        "\n",
        "# cria uma lista com 5 elementos\n",
        "la = [1,2,3,4,5]\n",
        "print('Lista la possui %d elementos' %len(la))\n",
        "print(la)\n",
        "\n",
        "input('Pressione qualquer tecla para continuar...')\n",
        "\n",
        "lb = []\n",
        "# cria uma lista com 5 números aleatórios entre 0 e 99\n",
        "for i in range(5):\n",
        "    lb.append(random.randint(0, 100))\n",
        "\n",
        "print('Lista lb possui %d elementos aleatórios' %len(lb))\n",
        "print(lb)\n",
        "input('Pressione qualquer tecla para continuar...')\n",
        "\n",
        "# concatena 2 listas e gera uma nova\n",
        "lc = la + lb\n",
        "print('Lista lc = la + lb possui %d elementos' %len(lc))\n",
        "print(lc)\n",
        "\n",
        "input('Pressione qualquer tecla para continuar...')\n",
        "\n",
        "print('Percorre lista incrementando cada elemento')\n",
        "for i in range(len(lc)):\n",
        "        lc[i] += 1\n",
        "print(lc)\n",
        "\n",
        "input('Pressione qualquer tecla para continuar...')\n",
        "\n",
        "# insere elementos no final da lista\n",
        "lc.append(99)\n",
        "lc.append(72)\n",
        "print('Após inserção de 99 e 72 lc tem %d elementos' %len(lc))\n",
        "print(lc)\n",
        "\n",
        "input('Pressione qualquer tecla para continuar...')\n",
        "\n",
        "# ordena a lista \n",
        "print('Lista lc ordenada')\n",
        "lc.sort()\n",
        "print(lc)"
      ],
      "metadata": {
        "colab": {
          "base_uri": "https://localhost:8080/"
        },
        "id": "A2nNcdWP8oat",
        "outputId": "3abbdd90-e656-4635-fcc5-755797c3c2d1"
      },
      "execution_count": null,
      "outputs": [
        {
          "output_type": "stream",
          "name": "stdout",
          "text": [
            "Lista la possui 5 elementos\n",
            "[1, 2, 3, 4, 5]\n",
            "Pressione qualquer tecla para continuar...\n",
            "Lista lb possui 5 elementos aleatórios\n",
            "[57, 29, 1, 55, 53]\n",
            "Pressione qualquer tecla para continuar...\n",
            "Lista lc = la + lb possui 10 elementos\n",
            "[1, 2, 3, 4, 5, 57, 29, 1, 55, 53]\n",
            "Pressione qualquer tecla para continuar...\n",
            "Percorre lista incrementando cada elemento\n",
            "[2, 3, 4, 5, 6, 58, 30, 2, 56, 54]\n",
            "Pressione qualquer tecla para continuar...\n",
            "Após inserção de 99 e 72 lc tem 12 elementos\n",
            "[2, 3, 4, 5, 6, 58, 30, 2, 56, 54, 99, 72]\n",
            "Pressione qualquer tecla para continuar...\n",
            "Menor elemento de lc é 2\n",
            "Maior elemento de lc é 99\n",
            "Lista lc ordenada\n",
            "[2, 2, 3, 4, 5, 6, 30, 54, 56, 58, 72, 99]\n"
          ]
        }
      ]
    },
    {
      "cell_type": "markdown",
      "source": [
        "**Ex 33:**  Faça um programa que leia uma lista de 5 números inteiros e mostre-a na tela."
      ],
      "metadata": {
        "id": "tJdN1OI2nkCc"
      }
    },
    {
      "cell_type": "code",
      "source": [
        "L = []\n",
        "i = 1\n",
        "while i<= 5:\n",
        "  n = int(input('Digite um número: '))\n",
        "  L.append(n)\n",
        "  i = i + 1\n",
        "print('Lista: ', L)"
      ],
      "metadata": {
        "colab": {
          "base_uri": "https://localhost:8080/"
        },
        "id": "99d9JzBSnoA_",
        "outputId": "a438f868-8b72-4b5e-d9e9-80f20b5bfcfc"
      },
      "execution_count": null,
      "outputs": [
        {
          "output_type": "stream",
          "name": "stdout",
          "text": [
            "Digite um número: 4\n",
            "Digite um número: 1\n",
            "Digite um número: 2\n",
            "Digite um número: 7\n",
            "Digite um número: 5\n",
            "Lista:  [4, 1, 2, 7, 5]\n"
          ]
        }
      ]
    },
    {
      "cell_type": "markdown",
      "source": [
        "**Ex 34:** Faça um programa que leia 4 notas, armazene-as em uma lista e mostre-as na tela juntamente com a média."
      ],
      "metadata": {
        "id": "g8CarsvRoZQ5"
      }
    },
    {
      "cell_type": "code",
      "source": [
        "notas = []\n",
        "soma = 0\n",
        "i = 1\n",
        "while i <= 4:\n",
        "  n = float(input('Nota: '))\n",
        "  notas.append(n)\n",
        "  soma += n\n",
        "  i += 1\n",
        "print('Notas: ', notas)\n",
        "print('Média: %.2f' %(soma/4))"
      ],
      "metadata": {
        "colab": {
          "base_uri": "https://localhost:8080/"
        },
        "id": "42_LY4pUocnp",
        "outputId": "6b270dc9-1000-4bf5-ed17-a72bd3913345"
      },
      "execution_count": null,
      "outputs": [
        {
          "output_type": "stream",
          "name": "stdout",
          "text": [
            "Nota: 9\n",
            "Nota: 7.5\n",
            "Nota: 6\n",
            "Nota: 8\n",
            "Notas:  [9.0, 7.5, 6.0, 8.0]\n",
            "Média: 7.62\n"
          ]
        }
      ]
    },
    {
      "cell_type": "markdown",
      "source": [
        "**Slicing (Fatiamento)**\n",
        "\n",
        "Ao se trabalhar com listas em Python, uma ferramenta bastante poderosa para obter subconjuntos de uma lista é a técnica conhecida como slicing. Perguntas como quais são os elementos das posições pares, ou qual é a sublista obtida entre o terceiro e o sétimo elemento podem ser facilmente respondidas através do fatiamento. Suponha a lista L = [9, 8, 7, 6, 5, 4, 3, 2, 1].\n",
        "\n",
        "L[-1] retorna o último elemento: 1\n",
        "\n",
        "L[-2] retorna o penúltimo elemento: 2\n",
        "\n",
        "L[-3] retorna o antepenúltimo elemento: 3\n",
        "\n",
        "L[:3] retorna: [9, 8, 7] (note que não inclui o limite superior)\n",
        "\n",
        "L[3:] retorna: [6, 5, 4, 3, 2, 1]\n",
        "\n",
        "L[2:5] retorna: [7, 6, 5]\n",
        "\n",
        "L[::2] retorna: [9, 7, 5, 3, 1] (apenas as posições pares)\n",
        "\n",
        "L[::3] retorna: [9, 6, 3]\n",
        "\n",
        "L[::-1] retorna: [1, 2, 3, 4, 5, 6, 7, 8, 9] (lista ao contrário)\n",
        "\n",
        "L[::-2] retorna: [1, 3, 5, 7, 9] \n",
        "\n",
        "**List comprehensions**\n",
        "\n",
        "Suponha agora que desejamos criar uma nova lista L2 que contenha somente os elementos de L que sejam divisíveis por 3. Uma forma rápida de construir L2 é através da técnica list comprehensions."
      ],
      "metadata": {
        "id": "aDd_aMDv2wmp"
      }
    },
    {
      "cell_type": "code",
      "source": [
        "L = [9, 8, 7, 6, 5, 4, 3, 2, 1]\n",
        "\n",
        "L2 = [x for x in L if x % 3 == 0]\n",
        "\n",
        "print(L2)"
      ],
      "metadata": {
        "colab": {
          "base_uri": "https://localhost:8080/"
        },
        "id": "AdQ1dOgczXWi",
        "outputId": "048105cb-03b5-4ee4-dc38-b548e8e6c6ae"
      },
      "execution_count": 2,
      "outputs": [
        {
          "output_type": "stream",
          "name": "stdout",
          "text": [
            "[9, 6, 3]\n"
          ]
        }
      ]
    },
    {
      "cell_type": "markdown",
      "source": [
        "Por exemplo, se desejamos construir L3 com os números pares, teremos:"
      ],
      "metadata": {
        "id": "izMux1-kzkiP"
      }
    },
    {
      "cell_type": "code",
      "source": [
        "L3 = [x for x in L if x % 2 == 0]\n",
        "\n",
        "print(L3)"
      ],
      "metadata": {
        "colab": {
          "base_uri": "https://localhost:8080/"
        },
        "id": "mzA_G5y2zl0C",
        "outputId": "8f6f7bb2-9c8d-467b-dbb7-d9b9f1e1d174"
      },
      "execution_count": 3,
      "outputs": [
        {
          "output_type": "stream",
          "name": "stdout",
          "text": [
            "[8, 6, 4, 2]\n"
          ]
        }
      ]
    },
    {
      "cell_type": "markdown",
      "source": [
        "Suponha agora que desejamos criar L4 com o quadrado dos números ímpares:"
      ],
      "metadata": {
        "id": "8gcesyfIzvLW"
      }
    },
    {
      "cell_type": "code",
      "source": [
        "L4 = [x**2 for x in L if x% 2 == 1]\n",
        "\n",
        "print(L4)"
      ],
      "metadata": {
        "colab": {
          "base_uri": "https://localhost:8080/"
        },
        "id": "zMAXyXxdzwPw",
        "outputId": "341e09c7-d6d4-4b94-8445-0591c59e9c14"
      },
      "execution_count": 4,
      "outputs": [
        {
          "output_type": "stream",
          "name": "stdout",
          "text": [
            "[81, 49, 25, 9, 1]\n"
          ]
        }
      ]
    },
    {
      "cell_type": "markdown",
      "source": [
        "Veremos a seguir problemas e exercícios que utilizam estruturas do tipo lista.\n",
        "\n",
        "**Ex 35:** Supondo que uma lista de n elementos reais represente um vetor no $R^n$, faça uma função para computar o produto escalar entre 2 vetores."
      ],
      "metadata": {
        "id": "qezZ2r4fz2l0"
      }
    },
    {
      "cell_type": "code",
      "source": [
        "# Calcula o produto escalar entre 2 vetores \n",
        "def produto_escalar(u, v): \n",
        "\tsoma = 0 \n",
        "\tfor i in range(len(u)): \n",
        "\t\tsoma = soma + u[i]*v[i] \n",
        "\treturn soma\n",
        "\n",
        "u = [1, 2, 3]\n",
        "v = [4, 5, 6]\n",
        "x = produto_escalar(u, v)\n",
        "print(x)"
      ],
      "metadata": {
        "colab": {
          "base_uri": "https://localhost:8080/"
        },
        "id": "54bceMw-z-xa",
        "outputId": "16f4ccbf-b5a5-4a0d-ab88-ed06e8a25fe1"
      },
      "execution_count": 5,
      "outputs": [
        {
          "output_type": "stream",
          "name": "stdout",
          "text": [
            "32\n"
          ]
        }
      ]
    },
    {
      "cell_type": "markdown",
      "source": [
        "Faça uma função que compute a norma de um vetor: $|| \\vec{v} || = \\sqrt{v_1^2 + v_2^2 + ... + v_n^2}$ \n",
        "\n",
        "**Ex 36:** Faça uma função que encontre o maior elemento de uma lista."
      ],
      "metadata": {
        "id": "XL1MfatA0PNY"
      }
    },
    {
      "cell_type": "code",
      "source": [
        "# Retorna o maior elemento de uma lista de inteiros \n",
        "def maximo(lista): \n",
        "\tmaior = lista[0] \n",
        "\tfor i in range(len(lista)): \n",
        "\t\tif lista[i] > maior: \n",
        "\t\t\tmaior = lista[i] \n",
        "\treturn maior \n",
        "\n",
        "L = [4, 1, 5, 3, 7, 6, 0]\n",
        "\n",
        "m = maximo(L)\n",
        "print('Máximo: ', m)"
      ],
      "metadata": {
        "colab": {
          "base_uri": "https://localhost:8080/"
        },
        "id": "qwDItSOe0rzw",
        "outputId": "5570c976-0145-440a-fab3-9b3774e0264e"
      },
      "execution_count": 6,
      "outputs": [
        {
          "output_type": "stream",
          "name": "stdout",
          "text": [
            "Máximo:  7\n"
          ]
        }
      ]
    },
    {
      "cell_type": "markdown",
      "source": [
        "Faça uma função para encontra o mínimo elemento de uma lista L.\n",
        "\n",
        "**Ex 37:** Uma tarefa fundamental na computação consiste em dado uma lista e um valor qualquer, verificar se aquele valor pertence a lista ou não. Essa funcionalidade é usada por exemplo em qualquer sistema que exige o login de um usuário (para verificar se o CPF da pessoa está cadastrada). Faça uma função que, dada uma lista de inteiros L e um número inteiro x, verifique se x está ou não em L. A função deve retornar o índice do elemento (posição) caso ele pertença a ele ou o valor lógico False se ele não pertence a L. (isso equivale ao operador in de Python)"
      ],
      "metadata": {
        "id": "iOMvvCXI0679"
      }
    },
    {
      "cell_type": "code",
      "source": [
        "def busca_sequencial(lista, x): \n",
        "\tachou = False \n",
        "\ti = 0 \n",
        "\twhile i < len(lista) and not achou: \n",
        "\t\tif (lista[i] == x): \n",
        "\t\t\tachou = True \n",
        "\t\t\tpos = i\t \n",
        "\t\telse: \n",
        "\t\t\ti = i + 1\t\t \n",
        "\tif achou: \n",
        "\t\treturn pos \n",
        "\telse: \n",
        "\t\treturn achou \n",
        "\n",
        "L = [4, 1, 5, 3, 7, 6, 0]\n",
        "\n",
        "p = busca_sequencial(L, 7)\n",
        "q = busca_sequencial(L, 99)\n",
        "\n",
        "print('Elemento 7: ', p)\n",
        "print('Elemento 99: ', q)"
      ],
      "metadata": {
        "colab": {
          "base_uri": "https://localhost:8080/"
        },
        "id": "YRM6izxG2-KV",
        "outputId": "ada45fa6-d01c-4131-d53f-a863747e0250"
      },
      "execution_count": 7,
      "outputs": [
        {
          "output_type": "stream",
          "name": "stdout",
          "text": [
            "Elemento 7:  4\n",
            "Elemento 99:  False\n"
          ]
        }
      ]
    },
    {
      "cell_type": "markdown",
      "source": [
        "**Ex 38:** Deseja-se contar quantos números entre 1000 e 9999 (inclusive) são ímpares, divisíveis por 7 e cujo primeiro algarismo é um número par. Como resolver o problema em Python com listas?"
      ],
      "metadata": {
        "id": "T2hFKhVY3gua"
      }
    },
    {
      "cell_type": "code",
      "source": [
        "def impar(n):\n",
        "    if n % 2 == 1:\n",
        "        return True\n",
        "    \n",
        "def div_por_7(n):\n",
        "    if n % 7 == 0:\n",
        "        return True\n",
        "    \n",
        "def inicia_par(s):\n",
        "    num = int(s[0])\n",
        "    if num % 2 == 0:\n",
        "        return True\n",
        "\n",
        "def armazena_numeros(low, high):\n",
        "    L = []\n",
        "    for i in range(low, high+1):\n",
        "        s = str(i)  # converte para string\n",
        "        if impar(i) and div_por_7(i) and inicia_par(s):\n",
        "            L.append(i)\n",
        "    return L\n",
        "\n",
        "lista = armazena_numeros(1000, 10000)\n",
        "\n",
        "print(lista)\n",
        "print('Há %d números satisfazendo as condições.' %(len(lista)))"
      ],
      "metadata": {
        "colab": {
          "base_uri": "https://localhost:8080/"
        },
        "id": "gbwSUK-h3jP-",
        "outputId": "cd86b551-f0e5-4142-aa79-071561bb350e"
      },
      "execution_count": 8,
      "outputs": [
        {
          "output_type": "stream",
          "name": "stdout",
          "text": [
            "[2009, 2023, 2037, 2051, 2065, 2079, 2093, 2107, 2121, 2135, 2149, 2163, 2177, 2191, 2205, 2219, 2233, 2247, 2261, 2275, 2289, 2303, 2317, 2331, 2345, 2359, 2373, 2387, 2401, 2415, 2429, 2443, 2457, 2471, 2485, 2499, 2513, 2527, 2541, 2555, 2569, 2583, 2597, 2611, 2625, 2639, 2653, 2667, 2681, 2695, 2709, 2723, 2737, 2751, 2765, 2779, 2793, 2807, 2821, 2835, 2849, 2863, 2877, 2891, 2905, 2919, 2933, 2947, 2961, 2975, 2989, 4011, 4025, 4039, 4053, 4067, 4081, 4095, 4109, 4123, 4137, 4151, 4165, 4179, 4193, 4207, 4221, 4235, 4249, 4263, 4277, 4291, 4305, 4319, 4333, 4347, 4361, 4375, 4389, 4403, 4417, 4431, 4445, 4459, 4473, 4487, 4501, 4515, 4529, 4543, 4557, 4571, 4585, 4599, 4613, 4627, 4641, 4655, 4669, 4683, 4697, 4711, 4725, 4739, 4753, 4767, 4781, 4795, 4809, 4823, 4837, 4851, 4865, 4879, 4893, 4907, 4921, 4935, 4949, 4963, 4977, 4991, 6013, 6027, 6041, 6055, 6069, 6083, 6097, 6111, 6125, 6139, 6153, 6167, 6181, 6195, 6209, 6223, 6237, 6251, 6265, 6279, 6293, 6307, 6321, 6335, 6349, 6363, 6377, 6391, 6405, 6419, 6433, 6447, 6461, 6475, 6489, 6503, 6517, 6531, 6545, 6559, 6573, 6587, 6601, 6615, 6629, 6643, 6657, 6671, 6685, 6699, 6713, 6727, 6741, 6755, 6769, 6783, 6797, 6811, 6825, 6839, 6853, 6867, 6881, 6895, 6909, 6923, 6937, 6951, 6965, 6979, 6993, 8001, 8015, 8029, 8043, 8057, 8071, 8085, 8099, 8113, 8127, 8141, 8155, 8169, 8183, 8197, 8211, 8225, 8239, 8253, 8267, 8281, 8295, 8309, 8323, 8337, 8351, 8365, 8379, 8393, 8407, 8421, 8435, 8449, 8463, 8477, 8491, 8505, 8519, 8533, 8547, 8561, 8575, 8589, 8603, 8617, 8631, 8645, 8659, 8673, 8687, 8701, 8715, 8729, 8743, 8757, 8771, 8785, 8799, 8813, 8827, 8841, 8855, 8869, 8883, 8897, 8911, 8925, 8939, 8953, 8967, 8981, 8995]\n",
            "Há 285 números satisfazendo as condições.\n"
          ]
        }
      ]
    },
    {
      "cell_type": "markdown",
      "source": [
        "**Ex 39:** Faça uma função que receba como entrada um número inteiro na base 10 e retorne uma lista contendo sua representação em binário (cada elemento da lista é um bit 0 ou 1)."
      ],
      "metadata": {
        "id": "DLTrgXD3HV3U"
      }
    },
    {
      "cell_type": "code",
      "source": [
        "def decimal_binario(n):\n",
        "    binario = []\n",
        "    while n != 0:\n",
        "        quociente = n // 2\n",
        "        resto = n % 2\n",
        "        binario.append(resto)\n",
        "        n = quociente\n",
        "    return binario[::-1]\n",
        "\n",
        "# Início do script\n",
        "n = int(input('Entre com um número inteiro: '))\n",
        "b = decimal_binario(n)\n",
        "print('O número %d em binário é: ' %n)\n",
        "print(b)"
      ],
      "metadata": {
        "colab": {
          "base_uri": "https://localhost:8080/"
        },
        "id": "tOXeCPcKHYWW",
        "outputId": "1e464091-a3b4-473b-edda-74ef41e21179"
      },
      "execution_count": 9,
      "outputs": [
        {
          "output_type": "stream",
          "name": "stdout",
          "text": [
            "Entre com um número inteiro: 53\n",
            "O número 53 em binário é: \n",
            "[1, 1, 0, 1, 0, 1]\n"
          ]
        }
      ]
    },
    {
      "cell_type": "markdown",
      "source": [
        "**Ex 40:** Dada a seguinte lista de 10 elementos L = [-8, -29, 100, 2, -2, 40, 23, -8, -7, 77] faça funções que recebam L como entrada e retorne:\n",
        "\n",
        "a) o menor número da lista \n",
        "\n",
        "b) o maior número da lista\n",
        "\n",
        "c) a média de todos os elementos da lista\n",
        "\n",
        "d) a lista inversa\n",
        "\n",
        "e) o desvio padrão dos elementos da lista\n",
        "\n",
        "$$d = \\sqrt{\\frac{1}{n}\\sum_{i=1}^{n}(x_i - \\overline x)^2}$$\tonde $\\overline x$ é a média e n é o tamanho da lista.\n",
        "\n",
        "O script a seguir mostra a solução em Python."
      ],
      "metadata": {
        "id": "JEckeBHBHkFx"
      }
    },
    {
      "cell_type": "code",
      "source": [
        "import math\n",
        "\n",
        "def minimo(L):\n",
        "    menor = L[0]\n",
        "    for x in L:\n",
        "        if x < menor:\n",
        "            menor = x\n",
        "    return menor\n",
        "\n",
        "def maximo(L):\n",
        "    maior = L[0]\n",
        "    for x in L:\n",
        "        if x > maior:\n",
        "            maior = x        \n",
        "    return maior\n",
        "\n",
        "def media(L):\n",
        "    soma=0\n",
        "    for x in L:\n",
        "        soma = soma + x\n",
        "    media = soma/len(L)\n",
        "    return media\n",
        "\n",
        "def desvio_padrao(L):\n",
        "    m = media(L)\n",
        "    soma = 0\n",
        "    for x in L:\n",
        "        soma = soma + (x - m)**2\n",
        "    desvio = math.sqrt(soma/len(L))\n",
        "    return desvio\n",
        "\n",
        "def inverte(L):\n",
        "    return L[::-1]\n",
        "\n",
        "# Início do script\n",
        "L = [-8, -29, 100, 2, -2, 40, 23, -8, -7, 77]\n",
        "print('Mínimo: %d' %minimo(L))\n",
        "print('Máximo: %d' %maximo(L))\n",
        "print('Média: %f' %media(L))\n",
        "print('Desvio padrão: %f' %desvio_padrao(L))\n",
        "print('Inverso:', inverte(L))"
      ],
      "metadata": {
        "colab": {
          "base_uri": "https://localhost:8080/"
        },
        "id": "H4zLL25GIPn5",
        "outputId": "2fb1febd-c988-4a6d-f98b-8e1b8ce7e568"
      },
      "execution_count": 10,
      "outputs": [
        {
          "output_type": "stream",
          "name": "stdout",
          "text": [
            "Mínimo: -29\n",
            "Máximo: 100\n",
            "Média: 18.800000\n",
            "Desvio padrão: 39.432981\n",
            "Inverso: [77, -7, -8, 23, 40, -2, 2, 100, -29, -8]\n"
          ]
        }
      ]
    },
    {
      "cell_type": "markdown",
      "source": [
        "**Filter, Map e Reduce**\n",
        "\n",
        "As funções filter, map e reduce são ferramentas muito poderosas para se trabalhar com variáveis compostas como listas. A ideia de todas essas funções consiste em combinar listas com funções Lambda. Iremos iniciar com a descrição da função filter. Como o próprio nome diz, a função filter atua filtrando os elementos de uma lista. O exemplo a seguir filtra uma lista mantendo apenas os números pares."
      ],
      "metadata": {
        "id": "y_gDlz9eJCZ0"
      }
    },
    {
      "cell_type": "code",
      "source": [
        "L = list(range(20))\n",
        "print(L)\n",
        "# Filtra lista (retorna apenas números pares)\n",
        "pares = list(filter(lambda x: x % 2 == 0, L))\n",
        "# Filtra lista (retorna apenas números ímpares)\n",
        "impares = list(filter(lambda x: x % 2 == 1, L))\n",
        "print(pares)\n",
        "print(impares)"
      ],
      "metadata": {
        "colab": {
          "base_uri": "https://localhost:8080/"
        },
        "id": "QnSQNTdJKNcw",
        "outputId": "fdec617b-728a-4f39-98c7-ff35251b083e"
      },
      "execution_count": 14,
      "outputs": [
        {
          "output_type": "stream",
          "name": "stdout",
          "text": [
            "[0, 1, 2, 3, 4, 5, 6, 7, 8, 9, 10, 11, 12, 13, 14, 15, 16, 17, 18, 19]\n",
            "[0, 2, 4, 6, 8, 10, 12, 14, 16, 18]\n",
            "[1, 3, 5, 7, 9, 11, 13, 15, 17, 19]\n"
          ]
        }
      ]
    },
    {
      "cell_type": "markdown",
      "source": [
        "O exemplo a seguir filtra uma lista pelos números positivos e negativos."
      ],
      "metadata": {
        "id": "AsOb5IxwK-U1"
      }
    },
    {
      "cell_type": "code",
      "source": [
        "L = [-8, -29, 100, 2, -2, 40, 23, -8, -7, 77, 41, -12]\n",
        "print(L)\n",
        "# Filtra lista (retorna negativos)\n",
        "negativos = list(filter(lambda x: x < 0, L))\n",
        "# Filtra lista (retorna positivos)\n",
        "positivos = list(filter(lambda x: x >= 0, L))\n",
        "print(negativos)\n",
        "print(positivos)"
      ],
      "metadata": {
        "colab": {
          "base_uri": "https://localhost:8080/"
        },
        "id": "uxci0iRZLHEA",
        "outputId": "6c8d01bd-e595-4861-dd33-ba721866b3d3"
      },
      "execution_count": 16,
      "outputs": [
        {
          "output_type": "stream",
          "name": "stdout",
          "text": [
            "[-8, -29, 100, 2, -2, 40, 23, -8, -7, 77, 41, -12]\n",
            "[-8, -29, -2, -8, -7, -12]\n",
            "[100, 2, 40, 23, 77, 41]\n"
          ]
        }
      ]
    },
    {
      "cell_type": "markdown",
      "source": [
        "E se desejarmos substituir todos os valores negativos por zero? Note que nesse caso a ideia seria aplicar uma função a cada elemento da lista. Para isso temos a função map. Iremos iniciar com um exemplo simples. Desejamos elevar ao quadrado todos os elementos da lista."
      ],
      "metadata": {
        "id": "ykfObEAyMQW8"
      }
    },
    {
      "cell_type": "code",
      "source": [
        "L = [1,2, 3, 4, 5]\n",
        "print(L)\n",
        "\n",
        "# Map para aplicar função a cada elemento de L\n",
        "quadrado = list(map(lambda x: x**2, L))\n",
        "print(quadrado)"
      ],
      "metadata": {
        "colab": {
          "base_uri": "https://localhost:8080/"
        },
        "id": "qO82U31MMv7x",
        "outputId": "bf23d24b-9f4f-4813-a2e9-e62236172727"
      },
      "execution_count": 18,
      "outputs": [
        {
          "output_type": "stream",
          "name": "stdout",
          "text": [
            "[1, 2, 3, 4, 5]\n",
            "[1, 4, 9, 16, 25]\n"
          ]
        }
      ]
    },
    {
      "cell_type": "markdown",
      "source": [
        "Então, no caso de zerar os elementos negativos podemos definir o seguinte comando."
      ],
      "metadata": {
        "id": "g8NzCvjHNE4g"
      }
    },
    {
      "cell_type": "code",
      "source": [
        "L = [-8, -29, 100, 2, -2, 40, 23, -8, -7, 77, 41, -12]\n",
        "print(L)\n",
        "# Substitui negativos por zero\n",
        "Lp = list(map(lambda x: x if x >= 0 else 0, L))\n",
        "print(Lp)"
      ],
      "metadata": {
        "colab": {
          "base_uri": "https://localhost:8080/"
        },
        "id": "uHam3e1ONMZ2",
        "outputId": "ab035855-28e4-4f99-a4cf-33f74301d73e"
      },
      "execution_count": 19,
      "outputs": [
        {
          "output_type": "stream",
          "name": "stdout",
          "text": [
            "[-8, -29, 100, 2, -2, 40, 23, -8, -7, 77, 41, -12]\n",
            "[0, 0, 100, 2, 0, 40, 23, 0, 0, 77, 41, 0]\n"
          ]
        }
      ]
    },
    {
      "cell_type": "markdown",
      "source": [
        "Agora, suponha que desejamos aplicar uma função que recebe toda a lista e retorna como saída apenas um único valor: por exemplo, desejamos calcular a soma de todos os elementos da lista. Para esses casos, existe a função reduce. A função reduce saiu do core da linguagem depois do lançamento do Python 3 e por essa razão, para utilizá-la devemos incluí-la a partir do pacote functools."
      ],
      "metadata": {
        "id": "z5txczxXOOTI"
      }
    },
    {
      "cell_type": "code",
      "source": [
        "from functools import reduce\n",
        "\n",
        "L = [1, 2, 3, 4, 5, 6, 7, 8, 9, 10]\n",
        "print(L)\n",
        "# Retorna a soma dos elementos da lista L\n",
        "soma = reduce((lambda x, y: x + y), L)\n",
        "print(soma)"
      ],
      "metadata": {
        "colab": {
          "base_uri": "https://localhost:8080/"
        },
        "id": "nPOma_8-O483",
        "outputId": "d026a775-de81-44b8-973f-2ca19c35eb58"
      },
      "execution_count": 20,
      "outputs": [
        {
          "output_type": "stream",
          "name": "stdout",
          "text": [
            "[1, 2, 3, 4, 5, 6, 7, 8, 9, 10]\n",
            "55\n"
          ]
        }
      ]
    },
    {
      "cell_type": "markdown",
      "source": [
        "E se desejássemos obter o maior elemento da lista? Simples, bastaria fazer o código a seguir."
      ],
      "metadata": {
        "id": "Fj5HEwMcPNYr"
      }
    },
    {
      "cell_type": "code",
      "source": [
        "from numpy.random import random\n",
        "from functools import reduce\n",
        "\n",
        "L = random(10)\n",
        "print(L)\n",
        "\n",
        "# Retorna o maior elemento da lista L\n",
        "maior = reduce((lambda x, y: x if x > y else y), L)\n",
        "print('Maior: ', maior)"
      ],
      "metadata": {
        "colab": {
          "base_uri": "https://localhost:8080/"
        },
        "id": "djXm-5spPUWm",
        "outputId": "af926385-2178-475c-fb71-dac6a255c185"
      },
      "execution_count": 25,
      "outputs": [
        {
          "output_type": "stream",
          "name": "stdout",
          "text": [
            "[0.79462653 0.87703529 0.66859445 0.15559141 0.17322241 0.74405174\n",
            " 0.49589965 0.50509312 0.63365009 0.49829676]\n",
            "Maior:  0.8770352889452716\n"
          ]
        }
      ]
    },
    {
      "cell_type": "markdown",
      "source": [
        "Note que com as funções filter, map e reduce evitamos a utilização de estruturas de repetição (loops), o que em Python é benéfico pois torna a execução dos scripts mais rápidas. Em Python, o que mais consome tempo de processamento são os loops criados com comandos while e for.\n",
        "\n",
        "**Strings**\n",
        "\n",
        "Strings são tipos de dados definidos como uma sequência de caracteres. Assemelham-se muito com listas, porém não é possível adicionar novos elementos ao conjunto (não posso fazer append, nem ordenar, nem inserir ou remover elemento). Por outro lado, há uma série de funções que strings possuem mas listas não. Como exemplo, podemos citar upper e lower para mudar os caracteres para maiúsculo ou minúsculo. Mas de longe a função mais conhecida e importante que apenas strings possuem é split (quebra em pedaços baseado num separador e monta uma lista).  Como o próprio nome diz, a função split() recebe uma string como entrada e a quebra em diversos pedaços, retornando uma lista em que cada elemento é um pedaço da string original. Isso tudo de acordo com um caracter separador passado como parâmetro (caracteres típicos de separação são : ; , . - _). Se nenhum caracter especial for passado como parâmetro, assume-se que devemos quebrar a string nos espaços em branco. Por exemplo:"
      ],
      "metadata": {
        "id": "kuLpOGHfQkx3"
      }
    },
    {
      "cell_type": "code",
      "source": [
        "digitos = '0,1,2,3,4,5,6,7,8' \n",
        "print(digitos)\n",
        "lista_digitos = digitos.split(',') \n",
        "print(lista_digitos)"
      ],
      "metadata": {
        "colab": {
          "base_uri": "https://localhost:8080/"
        },
        "id": "fUWpiIdmZeI9",
        "outputId": "0d3e7eaa-acc7-43b9-da13-4ade9c92b1f4"
      },
      "execution_count": 29,
      "outputs": [
        {
          "output_type": "stream",
          "name": "stdout",
          "text": [
            "0,1,2,3,4,5,6,7,8\n",
            "['0', '1', '2', '3', '4', '5', '6', '7', '8']\n"
          ]
        }
      ]
    },
    {
      "cell_type": "markdown",
      "source": [
        "O processo inverso, ou seja, pegar um lista de pedaços e juntar numa única string é feito com a função join(). O que essa função join faz nada mais é que pegar uma lista de strings e gerar uma única string."
      ],
      "metadata": {
        "id": "tIUg_38WZwnN"
      }
    },
    {
      "cell_type": "code",
      "source": [
        "numeros = ''.join(lista_digitos)  # une sem caracter de separação\n",
        "numeros = ','.join(lista_digitos) # une com , separando elementos\n",
        "print(numeros)\n",
        "numeros = '-'.join(lista_digitos) # une com - separando elementos\n",
        "numeros = ':'.join(lista_digitos) # une com : separando elementos"
      ],
      "metadata": {
        "colab": {
          "base_uri": "https://localhost:8080/"
        },
        "id": "hWAPgbRtaAKK",
        "outputId": "4ea5352d-54f9-4713-a642-8f5dc9b41ee8"
      },
      "execution_count": 30,
      "outputs": [
        {
          "output_type": "stream",
          "name": "stdout",
          "text": [
            "0,1,2,3,4,5,6,7,8\n"
          ]
        }
      ]
    },
    {
      "cell_type": "markdown",
      "source": [
        "Na prática o que essa função faz é equivalente ao seguinte código:"
      ],
      "metadata": {
        "id": "Xjs4-6TAaSVV"
      }
    },
    {
      "cell_type": "code",
      "source": [
        "lista = ['a','b','c','d','e','f'] \n",
        "print(lista)\n",
        "g = '' \n",
        "for x in lista: \n",
        "    g = g + x\t# concatena caracteres\n",
        "print(g)"
      ],
      "metadata": {
        "colab": {
          "base_uri": "https://localhost:8080/"
        },
        "id": "R3UKYRA2aUqo",
        "outputId": "2e3e38ed-51db-45ac-8505-43590ad4c859"
      },
      "execution_count": 31,
      "outputs": [
        {
          "output_type": "stream",
          "name": "stdout",
          "text": [
            "['a', 'b', 'c', 'd', 'e', 'f']\n",
            "abcdef\n"
          ]
        }
      ]
    },
    {
      "cell_type": "markdown",
      "source": [
        "**Ex 41:** Saber quantas palavras distintas existe em uma frase é uma tarefa que pode ser bastante complicada em determinadas linguagens de programação. Em Python, isso pode ser feito facilmente. Veja o exemplo a seguir."
      ],
      "metadata": {
        "id": "T27oBV0w8wwr"
      }
    },
    {
      "cell_type": "code",
      "source": [
        "import string\n",
        "\n",
        "def lista_palavras(frase):\n",
        "    frase = frase.lower()   # tudo em minúscula\n",
        "    # remove pontuação\n",
        "    for c in string.punctuation:\n",
        "        frase = frase.replace(c, '')\n",
        "    # quebra string em lista de palavras\n",
        "    lista = frase.split()\n",
        "    palavras = []\n",
        "    for x in lista:\n",
        "        if x not in palavras:\n",
        "            palavras.append(x)\n",
        "            \n",
        "    return palavras\n",
        "\n",
        "# Início do script\n",
        "sentenca = 'If you have an apple and I have an apple and we exchange these apples then you and I will still each have one apple. But if you have an idea and I have an idea and we exchange these ideas, then each of us will have two ideas.'\n",
        "print(sentenca)\n",
        "print()\n",
        "\n",
        "L = lista_palavras(sentenca)\n",
        "print('Há %d palavras distintas na sentença!' %len(L))\n",
        "print(L)"
      ],
      "metadata": {
        "colab": {
          "base_uri": "https://localhost:8080/"
        },
        "id": "zSILhPyN81f6",
        "outputId": "73c1c300-5a88-40cd-ae85-619ea8b1fa79"
      },
      "execution_count": 32,
      "outputs": [
        {
          "output_type": "stream",
          "name": "stdout",
          "text": [
            "If you have an apple and I have an apple and we exchange these apples then you and I will still each have one apple. But if you have an idea and I have an idea and we exchange these ideas, then each of us will have two ideas.\n",
            "\n",
            "Há 22 palavras distintas na sentença!\n",
            "['if', 'you', 'have', 'an', 'apple', 'and', 'i', 'we', 'exchange', 'these', 'apples', 'then', 'will', 'still', 'each', 'one', 'but', 'idea', 'ideas', 'of', 'us', 'two']\n"
          ]
        }
      ]
    },
    {
      "cell_type": "markdown",
      "source": [
        "**Ex 42:** Implemente uma função que recebe uma frase como entrada (string) e retorne quantas vogais ela possui, independente se maiúscula ou minúscula."
      ],
      "metadata": {
        "id": "NqzEqvZV8-1p"
      }
    },
    {
      "cell_type": "code",
      "source": [
        "from unicodedata import normalize\n",
        "\n",
        "def conta_vogais(palavra):\n",
        "    # letras minúsculas\n",
        "    p = palavra.lower()\n",
        "    # remove acentos, til, cedilhas\n",
        "    p = normalize('NFKD', p).encode('ascii', 'ignore').decode('ascii')\n",
        "    vogais = 0\n",
        "    for letra in p:\n",
        "        if letra in 'aeiou':\n",
        "            vogais = vogais + 1\n",
        "    return vogais\n",
        "\n",
        "palavra = input('Entre com uma palavra: ')\n",
        "n = conta_vogais(palavra)\n",
        "print('Há %d vogais na palavra %s' %(n, palavra))\n"
      ],
      "metadata": {
        "colab": {
          "base_uri": "https://localhost:8080/"
        },
        "id": "OEpvGPxJ9Ee1",
        "outputId": "446a2b24-ffa8-45d9-bf43-31f5ca15da48"
      },
      "execution_count": 33,
      "outputs": [
        {
          "output_type": "stream",
          "name": "stdout",
          "text": [
            "Entre com uma palavra: Alexandre\n",
            "Há 4 vogais na palavra Alexandre\n"
          ]
        }
      ]
    },
    {
      "cell_type": "markdown",
      "source": [
        "**Ex 43:** Implemente uma função que receba 2 palavras como entrada (strings) e retorne se elas são palíndromas, ou seja, se uma é o inverso da outra."
      ],
      "metadata": {
        "id": "QY0iYUBr9LRg"
      }
    },
    {
      "cell_type": "code",
      "source": [
        "def palindroma(p1):\n",
        "    palavra = p1.lower()\n",
        "    if palavra == palavra[::-1]:\n",
        "        return True\n",
        "    else:\n",
        "        return False\n",
        "\n",
        "print(palindroma('arara'))\n",
        "print(palindroma('ovo'))\n",
        "print(palindroma('carro'))"
      ],
      "metadata": {
        "colab": {
          "base_uri": "https://localhost:8080/"
        },
        "id": "5izhgvFq9NYN",
        "outputId": "9b5c7c68-422f-4803-ca94-1208776d6958"
      },
      "execution_count": 37,
      "outputs": [
        {
          "output_type": "stream",
          "name": "stdout",
          "text": [
            "True\n",
            "True\n",
            "False\n"
          ]
        }
      ]
    },
    {
      "cell_type": "markdown",
      "source": [
        "**Ex 44:** Um histograma é a representação gráfica da distribuição de frequências de uma variável. Trata-se de uma ferramenta visual muito importante para visualizar a distribuição dos valores observados Faça um programa que simule n jogadas de um dado não viciado. Armazene o resultado numa lista e gere um histograma dos valores observados. Encontre a moda, isto é o valor que mais vezes aconteceu nas jogadas."
      ],
      "metadata": {
        "id": "ZI8XX9cr9lqU"
      }
    },
    {
      "cell_type": "code",
      "source": [
        "import numpy as np\n",
        "\n",
        "# joga um dado n vezes\n",
        "def joga_dados(n):\n",
        "    # Gera números aleatórios inteiros de 1 a 6\n",
        "    jogadas = np.random.randint(1, 7, n)\n",
        "    return jogadas\n",
        "\n",
        "# constrói um histograma (distribuição de frequências)\n",
        "def histograma(dados):\n",
        "    h = 6*[0]   # cria uma lista com 6 zeros\n",
        "    for x in dados:\n",
        "        h[x-1] = h[x-1] + 1\t# incrementa posição do histograma\n",
        "    return h\n",
        "\n",
        "# Calcula a moda (número que mais aparece)\n",
        "def moda(hist):\n",
        "    maximo = hist[0]\n",
        "    modas = []\n",
        "    # Acha o máximo\n",
        "    for x in hist:\n",
        "        if x > maximo:\n",
        "            maximo = x\n",
        "    # Marca as posições em que o máximo aparece\n",
        "    for i in range(len(hist)):\n",
        "        if hist[i] == maximo:\n",
        "            modas.append(i+1) # pois começa em zero\n",
        "    \n",
        "    return modas\n",
        "\n",
        "# Início do script\n",
        "n = int(input('Quantas vezes você quer jogar o dado? '))\n",
        "resultados = joga_dados(n)\n",
        "hist = histograma(resultados)\n",
        "print('Histograma: ', hist)\n",
        "print('Modas: ', moda(hist))"
      ],
      "metadata": {
        "colab": {
          "base_uri": "https://localhost:8080/"
        },
        "id": "ZTPUWBxc9pJv",
        "outputId": "e28da029-a334-497b-be7c-dd29b9472101"
      },
      "execution_count": 38,
      "outputs": [
        {
          "output_type": "stream",
          "name": "stdout",
          "text": [
            "Quantas vezes você quer jogar o dado? 100\n",
            "Histograma:  [18, 15, 13, 20, 16, 18]\n",
            "Modas:  [4]\n"
          ]
        }
      ]
    },
    {
      "cell_type": "markdown",
      "source": [
        "**Ex 45:** Implemente uma função que gere uma aposta válida da Mega Sena. A função deve gerar uma lista contendo 6 números aleatórios entre 1 e 60. Note que não deve haver repetição."
      ],
      "metadata": {
        "id": "VtzvdVPA99yl"
      }
    },
    {
      "cell_type": "code",
      "source": [
        "import numpy as np\n",
        "\n",
        "def mega_sena():\n",
        "    numeros = []    \n",
        "    while len(numeros) < 6:\n",
        "        r = np.random.randint(1, 61)\n",
        "        if r not in numeros:\n",
        "            numeros.append(r)\n",
        "    numeros.sort()\n",
        "    \n",
        "    return numeros  \n",
        "\n",
        "print(mega_sena())"
      ],
      "metadata": {
        "colab": {
          "base_uri": "https://localhost:8080/"
        },
        "id": "DIWHwFcw-AgC",
        "outputId": "016a5e7b-241f-4c3e-aa1c-26eb2d03b90a"
      },
      "execution_count": 42,
      "outputs": [
        {
          "output_type": "stream",
          "name": "stdout",
          "text": [
            "[12, 19, 22, 30, 44, 57]\n"
          ]
        }
      ]
    },
    {
      "cell_type": "markdown",
      "source": [
        "**Ex 46:** A série $1^1 + 2^2 + 3^3 + 4^4 + … + 10^10 = 10405071317$. Faça um programa que retorne os últimos 10 dígitos de $1^1 + 2^2 + 3^3 + 4^4 + … + 1000^{1000}$."
      ],
      "metadata": {
        "id": "kdT873X5-voB"
      }
    },
    {
      "cell_type": "code",
      "source": [
        "lista = list(range(1, 1001))   \t\t# cria lista de 1 a 1000\n",
        "potencias = [x**x for x in lista]  \t# cria lista com x elevado a x\n",
        "soma = sum(potencias)            \t# soma todos elementos da lista\n",
        "digitos = str(soma)\t\t\t\t# converte resultado para string\n",
        "print(digitos[len(digitos)-10:])\t\t# imprime os 10 últimos caracteres"
      ],
      "metadata": {
        "colab": {
          "base_uri": "https://localhost:8080/"
        },
        "id": "HOSQ4Rea-_Pk",
        "outputId": "624fc2ff-8ddc-4440-e9a6-046a8620e858"
      },
      "execution_count": 43,
      "outputs": [
        {
          "output_type": "stream",
          "name": "stdout",
          "text": [
            "9110846700\n"
          ]
        }
      ]
    },
    {
      "cell_type": "markdown",
      "source": [
        "O site Project Euler (https://projecteuler.net/archives) contém uma série de problemas matemáticos desafiadores que podem ser resolvidos através da programação de computadores. O exercício anterior é um deles. O exercício a seguir é o problema 14 da lista do Project Euler.\n",
        "\n",
        "**Ex 47:** A maior sequencia de Collatz\n",
        "Esse é um dos problemas matemáticos mais misteriosos do mundo, principalmente porque não existem provas formais da sua solução. Suponha que seja escolhido um número inteiro qualquer n. A sequencia iterativa a seguir é definida para qualquer n positivo:\n",
        "\n",
        "n → n/2 , \tse n é par\n",
        "\n",
        "n → 3n + 1, \tse n é ímpar\n",
        "\n",
        "Por exemplo, usando o número 13 como entrada, iremos produzir a seguinte sequencia:\n",
        "\n",
        "13 → 40 → 20 → 10 → 5 → 16 → 8 → 4 → 2 → 1\n",
        "\n",
        "O fato intrigante é que para todo n, cedo ou tarde a sequencia atinge o número 1 (essa é a conjectura de Collatz). A pergunta é: qual é o número n até 1 milhão, que produz a maior sequencia, isto é, que demora mais para atingir o número 1. Sugestão: armazene a sequencia de cada número numa lista e retorne como saída a maior delas."
      ],
      "metadata": {
        "id": "UKy09G4W_GJx"
      }
    },
    {
      "cell_type": "code",
      "source": [
        "import time\n",
        "\n",
        "def collatz(n):\n",
        "    sequencia = [n]\n",
        "    while n > 1:\n",
        "        if n % 2 == 0:\n",
        "            n = n//2\n",
        "        else:\n",
        "            n = 3*n+1\n",
        "        sequencia.append(n)\n",
        "    \n",
        "    return sequencia\n",
        "\n",
        "# Testa as sequencias com todos valores de 1 a 1000000    \n",
        "def maior_seq():\n",
        "  inicio = time.time()\n",
        "  maior = 1\n",
        "  lista = []\n",
        "  for i in range(1, 1000000):\n",
        "    L = collatz(i)\n",
        "    if len(L) > maior:\n",
        "      maior = len(L)\n",
        "      lista = L\n",
        "  print(lista)\n",
        "  print()\n",
        "  print('Tamanho: %d' %maior)\n",
        "  print()\n",
        "  fim = time.time()\n",
        "  print('Tempo: %f' %(fim - inicio))\n",
        "\n",
        "\n",
        "maior_seq()"
      ],
      "metadata": {
        "colab": {
          "base_uri": "https://localhost:8080/"
        },
        "id": "waYlSAkk_Ls5",
        "outputId": "6dc97e29-1f70-4b63-b6e4-60d5658fc26c"
      },
      "execution_count": 48,
      "outputs": [
        {
          "output_type": "stream",
          "name": "stdout",
          "text": [
            "[837799, 2513398, 1256699, 3770098, 1885049, 5655148, 2827574, 1413787, 4241362, 2120681, 6362044, 3181022, 1590511, 4771534, 2385767, 7157302, 3578651, 10735954, 5367977, 16103932, 8051966, 4025983, 12077950, 6038975, 18116926, 9058463, 27175390, 13587695, 40763086, 20381543, 61144630, 30572315, 91716946, 45858473, 137575420, 68787710, 34393855, 103181566, 51590783, 154772350, 77386175, 232158526, 116079263, 348237790, 174118895, 522356686, 261178343, 783535030, 391767515, 1175302546, 587651273, 1762953820, 881476910, 440738455, 1322215366, 661107683, 1983323050, 991661525, 2974984576, 1487492288, 743746144, 371873072, 185936536, 92968268, 46484134, 23242067, 69726202, 34863101, 104589304, 52294652, 26147326, 13073663, 39220990, 19610495, 58831486, 29415743, 88247230, 44123615, 132370846, 66185423, 198556270, 99278135, 297834406, 148917203, 446751610, 223375805, 670127416, 335063708, 167531854, 83765927, 251297782, 125648891, 376946674, 188473337, 565420012, 282710006, 141355003, 424065010, 212032505, 636097516, 318048758, 159024379, 477073138, 238536569, 715609708, 357804854, 178902427, 536707282, 268353641, 805060924, 402530462, 201265231, 603795694, 301897847, 905693542, 452846771, 1358540314, 679270157, 2037810472, 1018905236, 509452618, 254726309, 764178928, 382089464, 191044732, 95522366, 47761183, 143283550, 71641775, 214925326, 107462663, 322387990, 161193995, 483581986, 241790993, 725372980, 362686490, 181343245, 544029736, 272014868, 136007434, 68003717, 204011152, 102005576, 51002788, 25501394, 12750697, 38252092, 19126046, 9563023, 28689070, 14344535, 43033606, 21516803, 64550410, 32275205, 96825616, 48412808, 24206404, 12103202, 6051601, 18154804, 9077402, 4538701, 13616104, 6808052, 3404026, 1702013, 5106040, 2553020, 1276510, 638255, 1914766, 957383, 2872150, 1436075, 4308226, 2154113, 6462340, 3231170, 1615585, 4846756, 2423378, 1211689, 3635068, 1817534, 908767, 2726302, 1363151, 4089454, 2044727, 6134182, 3067091, 9201274, 4600637, 13801912, 6900956, 3450478, 1725239, 5175718, 2587859, 7763578, 3881789, 11645368, 5822684, 2911342, 1455671, 4367014, 2183507, 6550522, 3275261, 9825784, 4912892, 2456446, 1228223, 3684670, 1842335, 5527006, 2763503, 8290510, 4145255, 12435766, 6217883, 18653650, 9326825, 27980476, 13990238, 6995119, 20985358, 10492679, 31478038, 15739019, 47217058, 23608529, 70825588, 35412794, 17706397, 53119192, 26559596, 13279798, 6639899, 19919698, 9959849, 29879548, 14939774, 7469887, 22409662, 11204831, 33614494, 16807247, 50421742, 25210871, 75632614, 37816307, 113448922, 56724461, 170173384, 85086692, 42543346, 21271673, 63815020, 31907510, 15953755, 47861266, 23930633, 71791900, 35895950, 17947975, 53843926, 26921963, 80765890, 40382945, 121148836, 60574418, 30287209, 90861628, 45430814, 22715407, 68146222, 34073111, 102219334, 51109667, 153329002, 76664501, 229993504, 114996752, 57498376, 28749188, 14374594, 7187297, 21561892, 10780946, 5390473, 16171420, 8085710, 4042855, 12128566, 6064283, 18192850, 9096425, 27289276, 13644638, 6822319, 20466958, 10233479, 30700438, 15350219, 46050658, 23025329, 69075988, 34537994, 17268997, 51806992, 25903496, 12951748, 6475874, 3237937, 9713812, 4856906, 2428453, 7285360, 3642680, 1821340, 910670, 455335, 1366006, 683003, 2049010, 1024505, 3073516, 1536758, 768379, 2305138, 1152569, 3457708, 1728854, 864427, 2593282, 1296641, 3889924, 1944962, 972481, 2917444, 1458722, 729361, 2188084, 1094042, 547021, 1641064, 820532, 410266, 205133, 615400, 307700, 153850, 76925, 230776, 115388, 57694, 28847, 86542, 43271, 129814, 64907, 194722, 97361, 292084, 146042, 73021, 219064, 109532, 54766, 27383, 82150, 41075, 123226, 61613, 184840, 92420, 46210, 23105, 69316, 34658, 17329, 51988, 25994, 12997, 38992, 19496, 9748, 4874, 2437, 7312, 3656, 1828, 914, 457, 1372, 686, 343, 1030, 515, 1546, 773, 2320, 1160, 580, 290, 145, 436, 218, 109, 328, 164, 82, 41, 124, 62, 31, 94, 47, 142, 71, 214, 107, 322, 161, 484, 242, 121, 364, 182, 91, 274, 137, 412, 206, 103, 310, 155, 466, 233, 700, 350, 175, 526, 263, 790, 395, 1186, 593, 1780, 890, 445, 1336, 668, 334, 167, 502, 251, 754, 377, 1132, 566, 283, 850, 425, 1276, 638, 319, 958, 479, 1438, 719, 2158, 1079, 3238, 1619, 4858, 2429, 7288, 3644, 1822, 911, 2734, 1367, 4102, 2051, 6154, 3077, 9232, 4616, 2308, 1154, 577, 1732, 866, 433, 1300, 650, 325, 976, 488, 244, 122, 61, 184, 92, 46, 23, 70, 35, 106, 53, 160, 80, 40, 20, 10, 5, 16, 8, 4, 2, 1]\n",
            "\n",
            "Tamanho: 525\n",
            "\n",
            "Tempo: 27.410883\n"
          ]
        }
      ]
    },
    {
      "cell_type": "markdown",
      "source": [
        "**Ex 48:** Leia uma lista de n posições com elementos maiores ou iguais a zero e o compacte, ou seja, leve os elementos nulos para o final do vetor. Dessa forma todos os “zeros” devem ficar para as posições finais do vetor.\n",
        "\n",
        "Entrada: \t1 0 2 3 6 0 9 4 0 13 29\n",
        "\n",
        "Saída: \t\t1 2 3 6 9 4 13 29 0 0 0\n",
        "\n",
        "Dica: Crie uma lista vazia e percorra a lista original adicionando um número x apenas se ele for maior que zero. Ao final complete com zeros (o número de zeros a ser adicionado deve ser a diferença entre o tamanho da lista maior e o tamanho da lista menor)."
      ],
      "metadata": {
        "id": "NwYtak9RCYsE"
      }
    },
    {
      "cell_type": "code",
      "source": [
        "# função para compactar a lista L\n",
        "def compacta(L):\n",
        "    lista = []\n",
        "    for x in L:\n",
        "        if x > 0:\n",
        "            lista.append(x)\n",
        "    n = len(L)\n",
        "    m = len(lista)\n",
        "    zeros = (n - m)*[0]\n",
        "    lista = lista + zeros\n",
        "    \n",
        "    return lista\n",
        "\n",
        "L = [1, 0, 2, 3, 6, 0, 9, 4, 0, 13, 29]\n",
        "print(L)\n",
        "print(compacta(L))"
      ],
      "metadata": {
        "colab": {
          "base_uri": "https://localhost:8080/"
        },
        "id": "n9czC1Q8P8dI",
        "outputId": "b008c5ed-b252-4370-e372-d6c52358627b"
      },
      "execution_count": 49,
      "outputs": [
        {
          "output_type": "stream",
          "name": "stdout",
          "text": [
            "[1, 0, 2, 3, 6, 0, 9, 4, 0, 13, 29]\n",
            "[1, 2, 3, 6, 9, 4, 13, 29, 0, 0, 0]\n"
          ]
        }
      ]
    },
    {
      "cell_type": "markdown",
      "source": [
        "**Ex 49:** Dada uma lista L de inteiros positivos, encontre o comprimento da maior sublista tal que a soma de todos os seus elementos seja igual a k.\n",
        "\n",
        "Exemplo: Para L = [1, 3, 3, 5, 1, 4, 7, 2, 2, 2, 1, 8] e k = 6, existem várias subsequencias que somam 6, por exemplo, as subsequencias [3, 3], [5, 1] e [2, 2, 2]. O programa deve retornar o comprimento da maior delas, ou seja, 3.\n"
      ],
      "metadata": {
        "id": "9EbSZjrmQTJz"
      }
    },
    {
      "cell_type": "code",
      "source": [
        "def max_sequence(L, k):\n",
        "    sequencia = []\n",
        "    max_len = -1      # retorna -1 se não há subsequencia que soma k\n",
        "\n",
        "    for i in L:\n",
        "        sequencia.append(i)\n",
        "\n",
        "        while sum(sequencia) > k: \n",
        "           sequencia = sequencia[1:]\n",
        "\n",
        "        if sum(sequencia) == k:\n",
        "            max_len = max(max_len, len(sequencia))\n",
        "\n",
        "    return max_len\n",
        "\n",
        "L = [1, 3, 3, 5, 1, 4, 7, 2, 2, 2, 1, 8]\n",
        "max_sequence(L, 6)"
      ],
      "metadata": {
        "colab": {
          "base_uri": "https://localhost:8080/"
        },
        "id": "wW87VoG1QdsW",
        "outputId": "988c03e6-429a-4f44-a16c-032c8f809a58"
      },
      "execution_count": 50,
      "outputs": [
        {
          "output_type": "execute_result",
          "data": {
            "text/plain": [
              "3"
            ]
          },
          "metadata": {},
          "execution_count": 50
        }
      ]
    },
    {
      "cell_type": "markdown",
      "source": [
        "**Vetores**\n",
        "\n",
        "Em Python, listas são objetos extremamente genéricos, podendo ser utilizados em uma gama de aplicações. Entretanto, o pacote Numpy (Numerical Python) oferece a definição de um tipo de dados específico para representar vetores: são os chamados arrays. Em resumo, um array é praticamente uma lista de números reais (floats), mas com algumas adicionais que facilitam cálculos matemáticos. A principal diferença é que numpy arrays são variáveis compostas homogêneas, ou seja, todos os elementos são do mesmo tipo de dados (inteiro ou real). Um exemplo é o seguinte: suponha que você tenha uma lista em que cada elemento representa o gasto em reais de uma compra efetuada pelo seu cartão. \n",
        "\n"
      ],
      "metadata": {
        "id": "kyoXdTyyRXGZ"
      }
    },
    {
      "cell_type": "code",
      "source": [
        "L = [13.5, 8.0, 5.99, 27.30, 199.99, 57.21]\n",
        "print(L)"
      ],
      "metadata": {
        "colab": {
          "base_uri": "https://localhost:8080/"
        },
        "id": "6ulhVYhxRrBY",
        "outputId": "79d1f9ef-88e7-4c94-e62a-00fcd70a850c"
      },
      "execution_count": 55,
      "outputs": [
        {
          "output_type": "stream",
          "name": "stdout",
          "text": [
            "[13.5, 8.0, 5.99, 27.3, 199.99, 57.21]\n"
          ]
        }
      ]
    },
    {
      "cell_type": "markdown",
      "source": [
        "Você deseja dividir cada um dos valores pelo gasto total, para descobrir a porcentagem referente a cada compra. Como você tem uma lista, você deve fazer o seguinte:"
      ],
      "metadata": {
        "id": "qou9toF8RtpE"
      }
    },
    {
      "cell_type": "code",
      "source": [
        "lista = []\n",
        "for i in range(len(L)):\n",
        "\tlista.append(L[i]/sum(L))\n",
        "print(lista)"
      ],
      "metadata": {
        "colab": {
          "base_uri": "https://localhost:8080/"
        },
        "id": "FWAkvXVgRwvz",
        "outputId": "fa6912db-6d8b-4f53-f977-6d5e450411e3"
      },
      "execution_count": 56,
      "outputs": [
        {
          "output_type": "stream",
          "name": "stdout",
          "text": [
            "[0.04327061764800154, 0.025641847495112023, 0.019199333311965126, 0.08750280457706978, 0.6410141350684317, 0.18337126189941985]\n"
          ]
        }
      ]
    },
    {
      "cell_type": "markdown",
      "source": [
        "Ou seja, não é permitido fazer \n",
        "\n",
        "lista = L/sum(L)   → ERRO (X)\n",
        "\n",
        "Mas se os dados tiverem sido armazenados num vetor, é possível fazer diretamente o comando acima:"
      ],
      "metadata": {
        "id": "bjyBSEWmSOUa"
      }
    },
    {
      "cell_type": "code",
      "source": [
        "import numpy as np\n",
        "\n",
        "# criando um vetor (as duas maneiras são equivalentes)\n",
        "v = np.array([13.5, 8.0, 5.99, 27.30, 199.99, 57.21])\n",
        "v = v/sum(v)\n",
        "print(v)"
      ],
      "metadata": {
        "colab": {
          "base_uri": "https://localhost:8080/"
        },
        "id": "2stvCeY1STvt",
        "outputId": "97e186db-4f1d-429b-d76c-d48835a902ac"
      },
      "execution_count": 57,
      "outputs": [
        {
          "output_type": "stream",
          "name": "stdout",
          "text": [
            "[0.04327062 0.02564185 0.01919933 0.0875028  0.64101414 0.18337126]\n"
          ]
        }
      ]
    },
    {
      "cell_type": "markdown",
      "source": [
        "Algumas funções importantes que todo objeto vetor possui, supondo que nosso vetor chama-se v:\n",
        "\n",
        "v.max() - retorna o maior elemento do vetor\n",
        "\n",
        "v.min() - retorna o menor elemento do vetor\n",
        "\n",
        "v.argmax() - retorna o índice do maior elemento do vetor\n",
        "\n",
        "v.argmin() - retorna o índice do menor elemento do vetor\n",
        "\n",
        "v.sum() - retorna a soma dos elementos do vetor\n",
        "\n",
        "v.mean() - retorna a média dos elementos do vetor\n",
        "\n",
        "v.prod() - retorna o produto dos elementos do vetor\n",
        "\n",
        "v.T – retorna o vetor transposto\n",
        "\n",
        "v.clip(a, b) – o que é menor que a vira a e o que é maior que b vira b\n",
        "\n",
        "v.shape() - retorna as dimensões do vetor/matriz\n",
        "\n",
        "Ou seja, para cálculos númericos com vetores e matrizes, a biblioteca numpy é uma ferramenta que nos auxilia muito.\n",
        "\n",
        "Para a referência completa das funções veja os links:\n",
        "\n",
        "https://docs.scipy.org/doc/numpy-dev/user/quickstart.html\n",
        "\n",
        "https://docs.scipy.org/doc/numpy/reference/arrays.ndarray.html#array-methods"
      ],
      "metadata": {
        "id": "kPRN68FBSelV"
      }
    },
    {
      "cell_type": "markdown",
      "source": [
        "“As pessoas mais felizes, não tem as melhores coisas... Elas sabem fazer o melhor das oportunidades que aparecem em seus caminhos... Pense nisso! O que você tem, todo mundo pode ter, mas o que você é... Ninguém pode ser...” (Clarice Lispector)"
      ],
      "metadata": {
        "id": "PM7P_5q1YDtu"
      }
    }
  ]
}
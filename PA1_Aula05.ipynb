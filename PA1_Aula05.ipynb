{
  "nbformat": 4,
  "nbformat_minor": 0,
  "metadata": {
    "colab": {
      "provenance": [],
      "collapsed_sections": []
    },
    "kernelspec": {
      "name": "python3",
      "display_name": "Python 3"
    },
    "language_info": {
      "name": "python"
    }
  },
  "cells": [
    {
      "cell_type": "markdown",
      "source": [
        "##**Programação e Algoritmos I**\n",
        "\n",
        "Prof Alexandre Levada\n",
        "\n",
        "###**Modularização e funções**\n",
        "\n",
        "Assim como aprendemos a utilizar diversas funções da linguagem Python como print(), input() e range(), iremos aprender a criar nossas próprias funções. A ideia consiste em empacotar um trecho de código para reutilizá-lo sempre que necessário. Em Python criamos uma função com a palavra reservada def. Para indicar o valor de retorno da função utilizamos a palavra-chave return. Por exemplo, suponha que desejamos empacotar numa função o código que computa o fatorial de n."
      ],
      "metadata": {
        "id": "s89cc4niCxmQ"
      }
    },
    {
      "cell_type": "code",
      "execution_count": null,
      "metadata": {
        "colab": {
          "base_uri": "https://localhost:8080/"
        },
        "id": "PNBTiVrECvQG",
        "outputId": "497f391b-70c5-4430-908c-b4c85d4f84ae"
      },
      "outputs": [
        {
          "output_type": "stream",
          "name": "stdout",
          "text": [
            "Fat(5) = 120 \n",
            "Fat(6) = 720 \n",
            "Fat(7) = 5040 \n"
          ]
        }
      ],
      "source": [
        "def fatorial(n):\n",
        "  fat = 1\n",
        "  while n > 0:\n",
        "    fat = fat*n\n",
        "    n = n - 1\n",
        "  return fat\n",
        "\n",
        "print('Fat(5) = %d ' %fatorial(5))\n",
        "print('Fat(6) = %d ' %fatorial(6))\n",
        "print('Fat(7) = %d ' %fatorial(7))"
      ]
    },
    {
      "cell_type": "markdown",
      "source": [
        "**Variáveis globais e locais**\n",
        "\n",
        "Variáveis declaradas dentro dentro de uma função possuem escopo local, ou seja, não podem ser acessadas fora da função. Ao se usar o mesmo nome para designar variáveis dentro e fora da função, elas são objetos distintos."
      ],
      "metadata": {
        "id": "8kjDSCnxM6fG"
      }
    },
    {
      "cell_type": "code",
      "source": [
        "a = 5\n",
        "\n",
        "def funcaoA():\n",
        "  a = 7\n",
        "  print('Valor de a dentro da função: %d' %a)\n",
        "\n",
        "print('Valor de a antes da função: %d' %a)\n",
        "funcaoA()\n",
        "print('Valor de a depois da função: %d' %a)"
      ],
      "metadata": {
        "colab": {
          "base_uri": "https://localhost:8080/"
        },
        "id": "_u1Vk1QiM-bG",
        "outputId": "7d1111ef-5b27-473b-c94b-51baf910a98e"
      },
      "execution_count": 4,
      "outputs": [
        {
          "output_type": "stream",
          "name": "stdout",
          "text": [
            "Valor de a antes da função: 5\n",
            "Valor de a dentro da função: 7\n",
            "Valor de a depois da função: 5\n"
          ]
        }
      ]
    },
    {
      "cell_type": "markdown",
      "source": [
        "Para indicar que as duas variáveis são de fato a mesma, é necessário utilizar a palavra-chave global."
      ],
      "metadata": {
        "id": "SbflFtvmNhNE"
      }
    },
    {
      "cell_type": "code",
      "source": [
        "a = 5\n",
        "\n",
        "def funcaoA():\n",
        "  global a\n",
        "  a = 7\n",
        "  print('Valor de a dentro da função: %d' %a)\n",
        "\n",
        "print('Valor de a antes da função: %d' %a)\n",
        "funcaoA()\n",
        "print('Valor de a depois da função: %d' %a)"
      ],
      "metadata": {
        "colab": {
          "base_uri": "https://localhost:8080/"
        },
        "id": "iMpx0eP5Niiq",
        "outputId": "8689a72a-56d9-4e81-fe60-47e65f18549e"
      },
      "execution_count": 5,
      "outputs": [
        {
          "output_type": "stream",
          "name": "stdout",
          "text": [
            "Valor de a antes da função: 5\n",
            "Valor de a dentro da função: 7\n",
            "Valor de a depois da função: 7\n"
          ]
        }
      ]
    },
    {
      "cell_type": "markdown",
      "source": [
        "**Ex 25:** Faça um função que retorne o n-ésimo termo da sequência de Fibonacci"
      ],
      "metadata": {
        "id": "KbEoXBocPH5G"
      }
    },
    {
      "cell_type": "code",
      "source": [
        "# gera o n-ésimo termo da série de Fibonacci\n",
        "def fibonacci(n):\n",
        "    a = 1\n",
        "    b = 1\n",
        "\n",
        "    if n == 1 or n == 2:\n",
        "        nt('F(%d) = %d' %(n, b))\n",
        "    else:\n",
        "        for i in range(3, n+1):     \n",
        "            a, b = b, a+b\n",
        "\n",
        "    return b\n",
        "\n",
        "print('Fib(10) = %d' %fibonacci(10))\n",
        "print('Fib(12) = %d' %fibonacci(12))\n",
        "print('Fib(15) = %d' %fibonacci(15))\n"
      ],
      "metadata": {
        "colab": {
          "base_uri": "https://localhost:8080/"
        },
        "id": "JifkVbnCPKbY",
        "outputId": "7704b13e-5e1f-4709-dfcd-7b8328f38804"
      },
      "execution_count": 6,
      "outputs": [
        {
          "output_type": "stream",
          "name": "stdout",
          "text": [
            "Fib(10) = 55\n",
            "Fib(12) = 144\n",
            "Fib(15) = 610\n"
          ]
        }
      ]
    },
    {
      "cell_type": "markdown",
      "source": [
        "**Ex 26:** A função seno pode ser aproximada numericamente pela seguinte série\n",
        "\n",
        "$$\n",
        "sen(x) = \\sum_{n=0}^{\\infty} \\frac{(-1)^n}{(2n+1)!} x^{2n+1} = x - \\frac{x^3}{3!} + \\frac{x^5}{5!} - ... \n",
        "$$\n",
        "\n",
        "Faça um programa que aceite como entrada o valor do ângulo x em radianos e o número de termos n da série e imprima na tela o valor computado de sen(x)."
      ],
      "metadata": {
        "id": "Ex7KY4STPicE"
      }
    },
    {
      "cell_type": "code",
      "source": [
        "import math\n",
        "\n",
        "def fatorial(n):\n",
        "\tfat = 1\n",
        "\tfor i in range(1, n+1):\n",
        "\t\tfat = fat*i\n",
        "\treturn fat\n",
        "\n",
        "def seno(x, n):\n",
        "\tsoma = 0\n",
        "\tfor i in range(0, n+1):\n",
        "\t\tsoma = soma + (-1)**i*x**(2*i+1)/fatorial(2*i+1)\n",
        "\treturn soma\n",
        "\n",
        "x = float(input('Entre com o valor do angulo (radianos) : '))\n",
        "n = int(input('Entre com o número de termos da série (n): '))\n",
        "\n",
        "print('sen(%f) = %.9f' %(x, seno(x, n)))\n",
        "print('Valor exato: %.9f' %(math.sin(x)))"
      ],
      "metadata": {
        "colab": {
          "base_uri": "https://localhost:8080/"
        },
        "id": "7_WI7StAP-7k",
        "outputId": "2c3ef8c3-023e-4bb6-d827-91618f4cfb01"
      },
      "execution_count": 8,
      "outputs": [
        {
          "output_type": "stream",
          "name": "stdout",
          "text": [
            "Entre com o valor do angulo (radianos) : 1.68\n",
            "Entre com o número de termos da série (n): 10\n",
            "sen(1.680000) = 0.994043202\n",
            "Valor exato: 0.994043202\n"
          ]
        }
      ]
    },
    {
      "cell_type": "markdown",
      "source": [
        "**Ex 27:** A função cosseno pode ser aproximada numericamente pela seguinte série\n",
        "\n",
        "$$\n",
        "cos(x) = \\sum_{n=0}^{\\infty} \\frac{(-1)^n}{(2n)!} x^{2n} = 1 - \\frac{x^2}{2!} + \\frac{x^4}{4!} - ... \n",
        "$$\n",
        "\n",
        "Faça uma função que aceite como entrada o valor do ângulo x em radianos e o número de termos n da série e imprima na tela o valor computado de cos(x)."
      ],
      "metadata": {
        "id": "57TlXg8FQ1Q7"
      }
    },
    {
      "cell_type": "code",
      "source": [
        "def fatorial(n):\n",
        "\tfat = 1\n",
        "\tfor i in range(1, n+1):\n",
        "\t\tfat = fat*i\n",
        "\treturn fat\n",
        "\n",
        "def cosseno(x, n):\n",
        "\tsoma = 0\n",
        "\tfor i in range(0, n+1):\n",
        "\t\tsoma = soma + (-1)**i*x**(2*i)/fatorial(2*i)\n",
        "\treturn soma\n",
        "\n",
        "x = float(input('Entre com o valor do angulo (radianos) : '))\n",
        "n = int(input('Entre com o número de termos da série (n): '))\n",
        "\n",
        "print('cos(%.1f) = %f' %(x, cosseno(x, n)))"
      ],
      "metadata": {
        "colab": {
          "base_uri": "https://localhost:8080/"
        },
        "id": "Gg1kOtJsRJeP",
        "outputId": "c2c63619-1771-4b47-e895-ac47bf2f8e81"
      },
      "execution_count": 9,
      "outputs": [
        {
          "output_type": "stream",
          "name": "stdout",
          "text": [
            "Entre com o valor do angulo (radianos) : 3.1415\n",
            "Entre com o número de termos da série (n): 10\n",
            "cos(3.1) = -1.000000\n"
          ]
        }
      ]
    },
    {
      "cell_type": "markdown",
      "source": [
        "**Ex 28:** A função exponencial pode ser aproximada numericamente pela seguinte série\n",
        "\n",
        "$$\n",
        "e^x = \\sum_{n=0}^{\\infty} \\frac{x^n}{n!} x^{2n} = 1 + x + \\frac{x^2}{2!} + \\frac{x^3}{3!} + \\frac{x^4}{4!} + ... \n",
        "$$\n",
        "\n",
        "Faça uma função que aceite como entrada o valor do ângulo x em radianos e o número de termos n da série e imprima na tela o valor computado de exp(x)."
      ],
      "metadata": {
        "id": "44B8DYsnTPcv"
      }
    },
    {
      "cell_type": "code",
      "source": [
        "import math\n",
        "\n",
        "def fatorial(n):\n",
        "\tfat = 1\n",
        "\tfor i in range(1, n+1):\n",
        "\t\tfat = fat*i\n",
        "\treturn fat\n",
        "\n",
        "def exponencial(x, n):\n",
        "\tsoma = 0\n",
        "\tfor i in range(0, n+1):\n",
        "\t\tsoma = soma + (x**i)/fatorial(i)\n",
        "\treturn soma\n",
        "\n",
        "x = float(input('Entre com o valor do expoente (x) : '))\n",
        "n = int(input('Entre com o número de termos da série (n): '))\n",
        "\n",
        "print('exp(%.1f) = %.9f' %(x, exponencial(x, n)))\n",
        "print('Valor exato: %.9f' %(math.exp(x)))"
      ],
      "metadata": {
        "colab": {
          "base_uri": "https://localhost:8080/"
        },
        "id": "7GsAg6pjUr-G",
        "outputId": "6cb32314-4712-4ca3-8ec7-b129ff1918f9"
      },
      "execution_count": 10,
      "outputs": [
        {
          "output_type": "stream",
          "name": "stdout",
          "text": [
            "Entre com o valor do expoente (x) : 1\n",
            "Entre com o número de termos da série (n): 10\n",
            "exp(1.0) = 2.718281801\n",
            "Valor exato: 2.718281828\n"
          ]
        }
      ]
    },
    {
      "cell_type": "markdown",
      "source": [
        "**Ex 29:** Um número de Keith é um inteiro maior que 9, tal que os seus dígitos, ao serem usados para iniciar uma sequencia de Fibonacci, alcançam posteriormente o referido número. Um exemplo é o número 14, pois 1 + 4 = 5, 4 + 5 = 9 e 5 + 9 = 14. Pergunta-se: quantos e quais são os números de Keith menores que 100? Faça um programa para determinar a resposta."
      ],
      "metadata": {
        "id": "rXiWrZFvWzHe"
      }
    },
    {
      "cell_type": "code",
      "source": [
        "# Função que retorna True se a sequencia iniciada com a e b atinge num\n",
        "def fib(a, b, num):\n",
        "  converge = False\n",
        "  while b <= num:\n",
        "    a, b = b, a+b\n",
        "    if b == num:\n",
        "      converge = True\n",
        "  \n",
        "  return converge\n",
        "\n",
        "# Computa quais são os números de Keith de 10 até 99\n",
        "def Keith():\n",
        "  qtde = 0\n",
        "  for num in range(10, 100):\n",
        "    a = num // 10   # pega a dezena\n",
        "    b = num % 10    # pega a unidade\n",
        "    if fib(a, b, num):\n",
        "      qtde += 1\n",
        "      print('Número de Keith %d: %d' %(qtde, num))\n",
        "\n",
        "Keith()"
      ],
      "metadata": {
        "colab": {
          "base_uri": "https://localhost:8080/"
        },
        "id": "pqG3Nt-5W7P2",
        "outputId": "ea9e2ae0-832e-43a8-a48c-977e69665801"
      },
      "execution_count": 11,
      "outputs": [
        {
          "output_type": "stream",
          "name": "stdout",
          "text": [
            "Número de Keith 1: 14\n",
            "Número de Keith 2: 19\n",
            "Número de Keith 3: 28\n",
            "Número de Keith 4: 47\n",
            "Número de Keith 5: 61\n",
            "Número de Keith 6: 75\n"
          ]
        }
      ]
    },
    {
      "cell_type": "markdown",
      "source": [
        "**Ex 30:** Pelo método de Newton, pode-se mostrar que que a seguinte relação de recorrência pode ser utilizada para computar numericamente uma aproximação para a raiz quadrada de a.\n",
        "\n",
        "$$\n",
        "x_{k+1} = \\frac{1}{2}\\left( x_k + \\frac{a}{x_k} \\right)\n",
        "$$\n",
        "\n",
        "onde $x_0 = 1$ e a é o número cuja raiz é desejada. Faça uma função que receba como entrada num número a e retorne como saída sua raiz quadrada."
      ],
      "metadata": {
        "id": "kzmwrPqzYMDm"
      }
    },
    {
      "cell_type": "code",
      "source": [
        "def calcula_raiz(a):\n",
        "    x = 1\n",
        "        \n",
        "    while True:\n",
        "        x_novo = 0.5*(x + a/x)\n",
        "        erro = abs(x - x_novo)\n",
        "        print('x : %.10f ***** Erro: %.10f' %(x_novo, erro))\n",
        "        x = x_novo  \n",
        "        if erro < 10**(-8):\n",
        "            break\n",
        "        \n",
        "    return x\n",
        "\n",
        "# Início do script\n",
        "a = float(input('Enter com o valor de a: '))\n",
        "raiz = calcula_raiz(a)\n",
        "print('A raíz quadrada de %.3f é %f' %(a, raiz))"
      ],
      "metadata": {
        "colab": {
          "base_uri": "https://localhost:8080/"
        },
        "id": "rhms7GNCYj0E",
        "outputId": "02afdd66-44e3-4ae1-9589-09036c533254"
      },
      "execution_count": 12,
      "outputs": [
        {
          "output_type": "stream",
          "name": "stdout",
          "text": [
            "Enter com o valor de a: 1234\n",
            "x : 617.5000000000 ***** Erro: 616.5000000000\n",
            "x : 309.7491902834 ***** Erro: 307.7508097166\n",
            "x : 156.8665293238 ***** Erro: 152.8826609596\n",
            "x : 82.3665447737 ***** Erro: 74.4999845501\n",
            "x : 48.6741778473 ***** Erro: 33.6923669265\n",
            "x : 37.0132146907 ***** Erro: 11.6609631566\n",
            "x : 35.1763293664 ***** Erro: 1.8368853243\n",
            "x : 35.1283688806 ***** Erro: 0.0479604859\n",
            "x : 35.1283361405 ***** Erro: 0.0000327400\n",
            "x : 35.1283361405 ***** Erro: 0.0000000000\n",
            "A raíz quadrada de 1234.000 é 35.128336\n"
          ]
        }
      ]
    },
    {
      "cell_type": "markdown",
      "source": [
        "**Ex 31:** Números primos são muito importantes em diversas aplicações que vão desde fatoração de números inteiros até criptografia de dados. Faça um programa que compute a soma de todos números primos menores que N, onde N é fornecido como entrada. \n",
        "\n",
        "a) Compute o valor da soma e o tempo gasto para computá-la se N=1000\n",
        "\n",
        "b) Compute o valor da soma e o tempo gasto para computá-la se N=10000\n",
        "\n",
        "c) Compute o valor da soma e o tempo gasto para computá-la se N=100000"
      ],
      "metadata": {
        "id": "2B_NlxHwaFbt"
      }
    },
    {
      "cell_type": "code",
      "source": [
        "import time\n",
        "\n",
        "# verifica se inteiro n é primo\n",
        "def verifica_primo(n):\n",
        "    divisor = 2\n",
        "    primo = True    \n",
        "    # o número 1 não é primo!\n",
        "    if n == 1:\n",
        "        return False\n",
        "    # // representa a divisão inteira\n",
        "    while (divisor <= n//2 ) and (primo):\n",
        "        if (n % divisor == 0):  \n",
        "            primo = False   \n",
        "        else:\n",
        "            divisor = divisor + 1            \n",
        "    return primo\n",
        "\n",
        "# Inicio do programa\n",
        "N = int(input('Entre com o valor de N: '))\n",
        "\n",
        "inicio = time.time()\n",
        "soma = 0 \n",
        "for i in range(2, N):\n",
        "    # Só precisa testar se é primo se i for ímpar\n",
        "    if verifica_primo(i):\n",
        "        soma = soma + i\n",
        "\n",
        "print('A soma dos primos menores que %d é %d' %(N,soma))\n",
        "fim = time.time()\n",
        "tempo = fim - inicio\n",
        "print('Tempo: %f segundos' %tempo)"
      ],
      "metadata": {
        "colab": {
          "base_uri": "https://localhost:8080/"
        },
        "id": "UE0DdwGzaKXL",
        "outputId": "e7560128-37d1-4541-e69f-5cf3cdb36ffc"
      },
      "execution_count": 15,
      "outputs": [
        {
          "output_type": "stream",
          "name": "stdout",
          "text": [
            "Entre com o valor de N: 100000\n",
            "A soma dos primos menores que 100000 é 454396537\n",
            "Tempo: 26.989085 segundos\n"
          ]
        }
      ]
    },
    {
      "cell_type": "markdown",
      "source": [
        "**Ex 32:** O método de Newton é um algoritmo numérico para calcular a raiz (zero) de uma função qualquer. Ele é baseado na seguinte iteração:\n",
        "\n",
        "$$\n",
        "x_{k+1} = x_k - \\frac{f(x_k)}{f'(x_k)}\n",
        "$$\n",
        "\n",
        "onde $x_0$ é um chute inicial (arbitrário) e f'(x) denota a derivada dea função f(x). Após um certo número de passos, a diferença entre $x_k$ e $x_{k+1}$ em módulo tende a zero, o que significa que o algoritmo convergiu para a solução desejada. Implemente o método de Newton para encontrar a raiz da função a seguir:\n",
        "\n",
        "$$\n",
        "f(x) = x^3 - 4x^2 + 7x - 2\n",
        "$$\n",
        "\n",
        "cuja derivada é dada por:\n",
        "\n",
        "$$\n",
        "f'(x) = 3x^2 - 8x + 7\n",
        "$$"
      ],
      "metadata": {
        "id": "rbHsTPPDbEu1"
      }
    },
    {
      "cell_type": "code",
      "source": [
        "from math import exp\t\t# importa a função exponencial do pacote math\n",
        "from math import sin\t\t# importa a função seno do pacote math\n",
        "from math import cos\t\t# importa a função cosseno do pacote math\n",
        "\n",
        "# encontra a raíz da função f usando chute inicial x e derivada df\n",
        "def newton(x, f, df):\n",
        "    while True:\n",
        "        novo_x = x - f(x)/df(x)\n",
        "        erro = abs(x - novo_x)\n",
        "        print('x : %.10f ***** Erro: %.10f' %(novo_x, erro))\n",
        "        x = novo_x\n",
        "    \n",
        "        if erro <= 10**(-8):\n",
        "            break\n",
        "    \n",
        "    return x\n",
        "\n",
        "# Define as funções matemáticas com lambda functions\n",
        "f = lambda x : x**3 - 4*x**2 + 7*x - 2\n",
        "df = lambda x : 3*x**2 - 8*x + 7\n",
        "    \n",
        "x0 = float(input('Entre com o chute inicial (x0): '))\n",
        "raiz = newton(x0, f, df)\n",
        "print('Raiz da função: %f' %raiz)"
      ],
      "metadata": {
        "colab": {
          "base_uri": "https://localhost:8080/"
        },
        "id": "q12Fdj9WbQit",
        "outputId": "701d4c75-ff7a-44e6-c833-5c4b6788b81b"
      },
      "execution_count": 22,
      "outputs": [
        {
          "output_type": "stream",
          "name": "stdout",
          "text": [
            "Entre com o chute inicial (x0): 5\n",
            "x : 3.6190476190 ***** Erro: 1.3809523810\n",
            "x : 2.5611662214 ***** Erro: 1.0578813976\n",
            "x : 1.5125924781 ***** Erro: 1.0485737433\n",
            "x : -0.1306327447 ***** Erro: 1.6432252228\n",
            "x : 0.2380460431 ***** Erro: 0.3686787878\n",
            "x : 0.3418992072 ***** Erro: 0.1038531641\n",
            "x : 0.3493349244 ***** Erro: 0.0074357173\n",
            "x : 0.3493708077 ***** Erro: 0.0000358833\n",
            "x : 0.3493708086 ***** Erro: 0.0000000008\n",
            "Raiz da função: 0.349371\n"
          ]
        }
      ]
    },
    {
      "cell_type": "markdown",
      "source": [
        "####**Aplicação interessante**\n",
        "\n",
        "O número de um CPF tem 9 algarismos e mais dois dígitos verificadores, que são indicados após uma barra. Logo, um CPF tem 11 algarismos. O número do CPF é escrito na forma ABCDEFGHI-JK ou diretamente como ABCDEFGHIJK, onde os algarismos não podem ser todos iguais entre si.\n",
        "\n",
        "O J é chamado 1° dígito verificador do número do CPF.\n",
        "\n",
        "O K é chamado 2° dígito verificador do número do CPF.\n",
        "\n",
        "**Primeiro Dígito**\n",
        "\n",
        "Para obter J multiplicamos A, B, C, D, E, F, G, H e I pelas constantes correspondentes:\n",
        "\n",
        "A x 10, B x 9, C x 8, D x 7, E x 6, F x 5, G x 4, H x 3, I x 2\n",
        "\n",
        "O resultado da soma, S = (10A + 9B + 8C + 7D + 6E + 5F + 4G + 3H + 2I), é dividido por 11. Analisamos então o RESTO dessa divisão:\n",
        "\n",
        "Se for 0 ou 1, o dígito J é 0 (zero). Se for 2, 3, 4, 5, 6, 7, 8, 9 ou 10, o dígito J é (11 - RESTO)\n",
        "\n",
        "**Segundo Dígito**\n",
        "\n",
        "Já temos J. Para obter K multiplicamos A, B, C, D, E, F, G, H, I e J pelas constantes: \n",
        "\n",
        "A x 11, B x 10, C x 9, D x 8, E x 7, F x 6, G x 5, H x 4, I x 3, J x 2\n",
        "\n",
        "O resultado da soma, S = 11A + 10B + 9C + 8D + 7E + 6F + 5G + 4H + 3I + 2J, é dividido por 11. Verificamos então o RESTO dessa divisão: se for 0 ou 1, o dígito K é 0 (zero). Se for 2, 3, 4, 5, 6, 7, 8, 9 ou 10, o dígito K é (11 - RESTO).\n",
        "\n",
        "Faça uma função em Python que recebe os 9 primeiros dígitos de um CPF e gere os 2 dígitos verificadores. Teste com o seu CPF."
      ],
      "metadata": {
        "id": "glV1cxlQalWa"
      }
    },
    {
      "cell_type": "code",
      "source": [
        "# Os dígitos do CPF formam uma string (sequência de caracteres).\n",
        "# É preciso converter cada dígito para inteiro para fazer os cálculos\n",
        "def digito_verificador(cpf):\n",
        "    ############ Cálculo do primeiro dígito\n",
        "    soma = 0\n",
        "    # Nesse laço, o valor de i é o multiplicador do dígito\n",
        "    for i in range(10, 1, -1):\n",
        "        k = 10 - i      # índice para os dígitos do CPF\n",
        "        soma = soma + i*int(cpf[k])   \n",
        "    resto = soma % 11\n",
        "    \n",
        "    if resto == 0 or resto == 1:\n",
        "        primeiro_digito = 0\n",
        "    else:\n",
        "        primeiro_digito = 11 - resto\n",
        "    \n",
        "    # Anexa o primeiro dígito no CPF\n",
        "    # Soma de strings = concatenação: ‘ab’ + ‘cd’ = ‘abcd’ \n",
        "    cpf = cpf + str(primeiro_digito)\n",
        "    \n",
        "    ############ Cálculo do segundo dígito\n",
        "    soma = 0 \n",
        "    # Nesse laço, o valor de i é o multiplicador do dígito\n",
        "    for i in range(11, 1, -1):\n",
        "        k = 11 - i      # índice para os dígitos do CPF\n",
        "        soma = soma + i*int(cpf[k])\n",
        "    resto = soma % 11\n",
        "    \n",
        "    if resto == 0 or resto == 1:\n",
        "        segundo_digito = 0\n",
        "    else:\n",
        "        segundo_digito = 11 - resto\n",
        "        \n",
        "    # Anexa o segundo dígito no CPF\n",
        "    cpf = cpf + str(segundo_digito)\n",
        "    \n",
        "    return cpf\n",
        "\n",
        "# Início do script\n",
        "numeros = input('Entre com os 9 primeiros dígitos do CPF: ')\n",
        "cpf = digito_verificador(numeros)\n",
        "print('CPF: ', cpf)"
      ],
      "metadata": {
        "colab": {
          "base_uri": "https://localhost:8080/"
        },
        "id": "Dp2-vxGjaw4-",
        "outputId": "8c1b6872-591c-42ae-f84b-dc5d9dfdd831"
      },
      "execution_count": 16,
      "outputs": [
        {
          "output_type": "stream",
          "name": "stdout",
          "text": [
            "Entre com os 9 primeiros dígitos do CPF: 123456789\n",
            "CPF:  12345678909\n"
          ]
        }
      ]
    },
    {
      "cell_type": "markdown",
      "source": [
        "\"Start by doing what's necessary; then do what's possible; and suddenly you're doing the impossible.\" (Francis of Assisi)"
      ],
      "metadata": {
        "id": "7Rqr7LTNa6bI"
      }
    }
  ]
}
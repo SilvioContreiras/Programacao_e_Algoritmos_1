{
  "nbformat": 4,
  "nbformat_minor": 0,
  "metadata": {
    "colab": {
      "provenance": [],
      "collapsed_sections": []
    },
    "kernelspec": {
      "name": "python3",
      "display_name": "Python 3"
    },
    "language_info": {
      "name": "python"
    }
  },
  "cells": [
    {
      "cell_type": "markdown",
      "source": [
        "##**Programação e Algoritmos I**\n",
        "\n",
        "Prof. Alexandre Levada\n",
        "\n",
        "###**Estruturas sequenciais**\n",
        "\n",
        "Antes de iniciar a programação em si, iremos definir alguns comandos básicos da linguagem Python. Uma das primeiras perguntas que surgem quando vamos construir um programa é: como declarar variáveis? Python é uma linguagem dinâmica e portanto não é necessário declarar variáveis. Basta usá-las conforme a necessidade. Para ilustrar o funcionamento básico da linguagem, iremos introduzir os comandos de entrada e saída:\n",
        "\n",
        "O comando print imprime informações na tela e o comando input lê dados do teclado.\n",
        "\n",
        "Para demonstrar a utilização desses comandos, iremos apresentar um pequeno script ilustrativo."
      ],
      "metadata": {
        "id": "8kRZhLuaTzGK"
      }
    },
    {
      "cell_type": "code",
      "execution_count": null,
      "metadata": {
        "id": "Hc7D8I9tTyJX",
        "colab": {
          "base_uri": "https://localhost:8080/"
        },
        "outputId": "f7bbf823-3762-4c52-9cf7-b494062e406f"
      },
      "outputs": [
        {
          "output_type": "stream",
          "name": "stdout",
          "text": [
            "Entre com o valor de a: 2\n",
            "Entre com o valor de b: 3\n",
            "\n",
            "O valor de 2.00 + 3.00 é igual a 5.00\n"
          ]
        }
      ],
      "source": [
        "# Leitura dos valores de entrada (isso é um comentário)\n",
        "# Por padrão tudo que é lido pelo input é uma cadeia de caracteres\n",
        "a = int(input('Entre com o valor de a: '))\n",
        "b = int(input('Entre com o valor de b: '))\n",
        "\n",
        "print()  # Pula linha\n",
        "\n",
        "# Calculo do(s) valor(es) de saída\n",
        "c = a + b\n",
        "\n",
        "# Impressão do(s) resultado(s) na saída\n",
        "print('O valor de %.2f + %.2f é igual a %.2f' %(a,b,c))"
      ]
    },
    {
      "cell_type": "markdown",
      "source": [
        "Note que ao ler um valor digitado pelo teclado com o comando input, utilizamos o comando int() para converter a string de leitura para um dado do tipo inteiro. Por padrão, toda informação lida através do teclado em Python é do tipo string, ou seja, não permite cálculos matemáticos. Para tratar os dados de entrada como números inteiros usamos int() e para tratar como números reais usamos float(). A seguir iremos resolver alguns exercícios básicos que envolvem estruturas sequenciais, isto é, uma sequencia linear de comandos.\n",
        "\n",
        "**Ex 1:** Sabe-se que dado uma temperatura em graus Celsius, o valor na escala Farenheit é dado por:\n",
        "\n",
        "$$\n",
        "F = \\frac{9}{5}C + 32\n",
        "$$\n",
        "\n",
        "Faça um programa que leia uma temperatura em Celsius e imprima na tela o valor em Farenheit."
      ],
      "metadata": {
        "id": "r85egq7vbPuC"
      }
    },
    {
      "cell_type": "code",
      "source": [
        "# celsius para farenheit\n",
        "c = float(input('Entre com a temperatura em Celsius (C): '))\n",
        "f = 9*c/5 + 32\n",
        "print('%.1f graus Celsius equivalem a %.1f graus Farenheit' %(c, f))"
      ],
      "metadata": {
        "colab": {
          "base_uri": "https://localhost:8080/"
        },
        "id": "77SE94G3bepg",
        "outputId": "27de1753-4938-4d3c-a729-789d36073ea8"
      },
      "execution_count": null,
      "outputs": [
        {
          "output_type": "stream",
          "name": "stdout",
          "text": [
            "Entre com a temperatura em Celsius (C): 30\n",
            "30.0 graus Celsius equivalem a 86.0 graus Farenheit\n"
          ]
        }
      ]
    },
    {
      "cell_type": "markdown",
      "source": [
        "**Ex 2:** O Movimento Retilíneo Uniformemente Variado (MRUV) é caracterizado pela mesma quantidade de aceleração de um corpo em linha reta. A posição do corpo durante a trajetória pode ser calculada através da seguinte equação: \n",
        "\n",
        "$$\n",
        "s = s_0 + v_0 t + at^2\n",
        "$$\n",
        "\n",
        "Faça um script que leia a posição e a velocidade iniciais, além da aceleração (constante) e o tempo final e imprima na tela a posição final do corpo."
      ],
      "metadata": {
        "id": "asEPCJZybn0U"
      }
    },
    {
      "cell_type": "code",
      "source": [
        "s0 = float(input('Entre com a posição inicial (m): '))\n",
        "v0 = float(input('Entre com a velocidade inicial (m/s): '))\n",
        "a = float(input('Entre com a aceleração constante (m/s^2): '))\n",
        "t = float(input('Entre com o tempo final (s): '))\n",
        "\n",
        "s = s0 + v0*t + a*t**2\n",
        "\n",
        "print('A posição final do corpo é %.2f' %s)"
      ],
      "metadata": {
        "colab": {
          "base_uri": "https://localhost:8080/"
        },
        "id": "YLJVW4IxbzMr",
        "outputId": "b89d4b91-ec60-44f4-c7fa-eae8b2918793"
      },
      "execution_count": null,
      "outputs": [
        {
          "output_type": "stream",
          "name": "stdout",
          "text": [
            "Entre com a posição inicial (m): 0\n",
            "Entre com a velocidade inicial (m/s): 5\n",
            "Entre com a aceleração constante (m/s^2): 2\n",
            "Entre com o tempo final (s): 10\n",
            "A posição final do corpo é 250.00\n"
          ]
        }
      ]
    },
    {
      "cell_type": "markdown",
      "source": [
        "**Ex 3:** A distância Euclidiana entre 2 pontos $P = (x_1, y_1)$ e $Q = (x_2, y_2)$ é definida por:\n",
        "\n",
        "$$\n",
        "d(P, Q) = \\sqrt{(x_1 - x_2)^2 + (y_1 - y_2)^2}\n",
        "$$\n",
        "\n",
        "Faça um programa que leias as coordenadas $x_1$, $y_1$, $x_2$ e $y_2$ e imprima a distância Euclidiana entre P e Q."
      ],
      "metadata": {
        "id": "xPfGPFRbcDUl"
      }
    },
    {
      "cell_type": "code",
      "source": [
        "x1 = float(input('Entre com a coordenada x do ponto P (x1): '))\n",
        "y1 = float(input('Entre com a coordenada y do ponto P (y1): '))\n",
        "x2 = float(input('Entre com a coordenada x do ponto Q (x2): '))\n",
        "y2 = float(input('Entre com a coordenada y do ponto Q (y2): '))\n",
        "\n",
        "distancia = ((x1 - x2)**2 + (y1 - y2)**2)**0.5\n",
        "print('A distância entre os pontos é %.2f' %distancia)"
      ],
      "metadata": {
        "colab": {
          "base_uri": "https://localhost:8080/"
        },
        "id": "DPaR27Hxckpf",
        "outputId": "854a6ca1-b138-4f7b-8765-90947844625f"
      },
      "execution_count": null,
      "outputs": [
        {
          "output_type": "stream",
          "name": "stdout",
          "text": [
            "Entre com a coordenada x do ponto P (x1): 1\n",
            "Entre com a coordenada y do ponto P (y1): 3\n",
            "Entre com a coordenada x do ponto Q (x2): 5\n",
            "Entre com a coordenada y do ponto Q (y2): 6\n",
            "A distância entre os pontos é 5.00\n"
          ]
        }
      ]
    },
    {
      "cell_type": "markdown",
      "source": [
        "**Ex 4:** A expressão utilizada para computar juros compostos é dada por:\n",
        "\n",
        "$$\n",
        "M = C\\left(1 + \\frac{J}{100}\\right)^P\n",
        "$$\n",
        "\n",
        "onde C é o capital inicial, J é a taxa de juros mensal (%), e P é o período em meses. Faça um programa que leia os valores de C, J e P e imprima a tela o valor final após a aplicação dos juros."
      ],
      "metadata": {
        "id": "-JwmGutKct_l"
      }
    },
    {
      "cell_type": "code",
      "source": [
        "C = float(input('Entre com o capital inicial (R$): '))\n",
        "J = float(input('Entre com a taxa de juros (% ao mês): '))\n",
        "P = float(input('Entre com o período em meses: '))\n",
        "\n",
        "M = C*(1+J/100)**P\n",
        "print('O montante final será de %.2f reais' %M)"
      ],
      "metadata": {
        "colab": {
          "base_uri": "https://localhost:8080/"
        },
        "id": "qpe7ziRCdB7a",
        "outputId": "f2a513b3-c9ac-492d-ebde-57e9a66e565e"
      },
      "execution_count": null,
      "outputs": [
        {
          "output_type": "stream",
          "name": "stdout",
          "text": [
            "Entre com o capital inicial (R$): 1000\n",
            "Entre com a taxa de juros (% ao mês): 0.85\n",
            "Entre com o período em meses: 12\n",
            "O montante final será de 1106.91 reais\n"
          ]
        }
      ]
    },
    {
      "cell_type": "markdown",
      "source": [
        "**Ex 5:** Num certo país da América do Sul, a moeda nacional é a Merreca (M\\$). No sistema monetário desse país só existem cédulas de M\\$ 100, M\\$ 50, M\\$ 10, M\\$ 5 e M\\$ 1. Dado um valor em Merrecas, faça um script que retorne a quantidade mínima de cédulas que totalizam o valor especificado. Por exemplo, se o valor for M\\$ 379, devemos ter:\n",
        "\n",
        "3 cédulas de M\\$ 100\n",
        "\n",
        "1 cédula de M\\$ 50\n",
        "\n",
        "2 cédulas de M\\$ 10\n",
        "\n",
        "0 cédulas de M\\$ 5\n",
        "\n",
        "4 cédulas de M\\$ 1"
      ],
      "metadata": {
        "id": "uaa15F6-dNed"
      }
    },
    {
      "cell_type": "code",
      "source": [
        "valor = int(input('Entre com o valor em M$: '))\n",
        "\n",
        "cedulas100 = valor // 100\n",
        "resto = valor % 100\n",
        "cedulas50 = resto // 50\n",
        "resto = resto % 50\n",
        "cedulas10 = resto // 10\n",
        "resto = resto % 10\n",
        "cedulas5 = resto // 5\n",
        "resto = resto % 5\n",
        "\n",
        "print('O valor digitado corresponde a:')\n",
        "print('%d cédulas de M$ 100' %cedulas100)\n",
        "print('%d cédulas de M$ 50' %cedulas50)\n",
        "print('%d cédulas de M$ 10' %cedulas10)\n",
        "print('%d cédulas de M$ 5' %cedulas5)\n",
        "print('%d cédulas de M$ 1' %resto)"
      ],
      "metadata": {
        "colab": {
          "base_uri": "https://localhost:8080/"
        },
        "id": "KGqpiH_UddRF",
        "outputId": "af3e8d41-8bf3-420f-f7b2-bdc342856270"
      },
      "execution_count": null,
      "outputs": [
        {
          "output_type": "stream",
          "name": "stdout",
          "text": [
            "Entre com o valor em M$: 537\n",
            "O valor digitado corresponde a:\n",
            "5 cédulas de M$ 100\n",
            "0 cédulas de M$ 50\n",
            "3 cédulas de M$ 10\n",
            "1 cédulas de M$ 5\n",
            "2 cédulas de M$ 1\n"
          ]
        }
      ]
    },
    {
      "cell_type": "markdown",
      "source": [
        "Ex6: Faça um Programa que pergunte quanto você ganha por hora e o número de horas trabalhadas no mês. Calcule e mostre o total do seu salário no referido mês, sabendo-se que são descontados 11% para o Imposto de Renda, 8% para o INSS e 5% para o sindicato, faça um programa que dê:\n",
        "\n",
        "a) salário bruto.\n",
        "\n",
        "b) quanto pagou ao INSS.\n",
        "\n",
        "c) quanto pagou ao sindicato.\n",
        "\n",
        "d) o salário líquido.\n",
        "\n",
        "e) calcule os descontos e o salário líquido, conforme a formatação abaixo:\n",
        "\n",
        "    + Salário Bruto : R$\n",
        "    - IR (11%) : R$\n",
        "    - INSS (8%) : R$\n",
        "    - Sindicato ( 5%) : R$\n",
        "    = Salário Liquido : R$"
      ],
      "metadata": {
        "id": "K3myvbSTeAWH"
      }
    },
    {
      "cell_type": "code",
      "source": [
        "ganho_hora = float(input('Ganho por hora: '))\n",
        "horas_mes = int(input('Horas de trabalho por mês: '))\n",
        "\n",
        "salario_bruto = ganho_hora*horas_mes\n",
        "IR = 0.11*salario_bruto\n",
        "INSS = 0.08*salario_bruto\n",
        "sindicato = 0.05*salario_bruto\n",
        "salario_liquido = salario_bruto - IR - INSS - sindicato\n",
        "\n",
        "print('+ Salário bruto: R$ %.2f' %salario_bruto)\n",
        "print('- IR (11%%): R$ %.2f' %INSS)\n",
        "print('- INSS (8%%): R$ %.2f' %IR)\n",
        "print('- Sindicato (5%%): R$ %.2f' %sindicato)\n",
        "print('= Salário líquido: R$ %.2f' %salario_liquido)"
      ],
      "metadata": {
        "colab": {
          "base_uri": "https://localhost:8080/"
        },
        "id": "40yDygX0eNTh",
        "outputId": "b49ae4a3-f27b-41da-bc48-3de8dc43d78d"
      },
      "execution_count": null,
      "outputs": [
        {
          "output_type": "stream",
          "name": "stdout",
          "text": [
            "Ganho por hora: 80\n",
            "Horas de trabalho por mês: 40\n",
            "+ Salário bruto: R$ 3200.00\n",
            "- IR (11%): R$ 256.00\n",
            "- INSS (8%): R$ 352.00\n",
            "- Sindicato (5%): R$ 160.00\n",
            "= Salário líquido: R$ 2432.00\n"
          ]
        }
      ]
    },
    {
      "cell_type": "markdown",
      "source": [
        "Note que para imprimir o caracter de porcentagem em Python é preciso digitar %%, uma  vez que % é reconhecido como um caracter especial da linguagem.\n",
        "\n",
        "“Aprender é a única coisa de que a mente nunca se cansa, nunca tem medo e nunca se arrepende.” \n",
        "(Leonardo da Vinci)"
      ],
      "metadata": {
        "id": "jHaTiv6weXVJ"
      }
    }
  ]
}